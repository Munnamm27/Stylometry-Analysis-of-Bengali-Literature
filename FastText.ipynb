{
 "cells": [
  {
   "cell_type": "code",
   "execution_count": 1,
   "metadata": {
    "colab": {
     "base_uri": "https://localhost:8080/"
    },
    "id": "-whFZ9SNgl94",
    "outputId": "9cf66c21-e65b-434d-f39a-656666a39c62"
   },
   "outputs": [
    {
     "name": "stdout",
     "output_type": "stream",
     "text": [
      "Mounted at /content/drive\n"
     ]
    }
   ],
   "source": [
    "from google.colab import drive\n",
    "drive.mount('/content/drive')"
   ]
  },
  {
   "cell_type": "code",
   "execution_count": 2,
   "metadata": {
    "colab": {
     "base_uri": "https://localhost:8080/"
    },
    "id": "l-3dFOujWWIh",
    "outputId": "bb5abf1b-6112-420a-87d1-2a99066ffb10"
   },
   "outputs": [
    {
     "name": "stdout",
     "output_type": "stream",
     "text": [
      "TensorFlow 1.x selected.\n"
     ]
    }
   ],
   "source": [
    "%tensorflow_version 1.x"
   ]
  },
  {
   "cell_type": "code",
   "execution_count": 4,
   "metadata": {
    "id": "XII3lzOoa7y7"
   },
   "outputs": [],
   "source": [
    "import pickle\n",
    "import numpy as np\n",
    "import pandas as pd"
   ]
  },
  {
   "cell_type": "code",
   "execution_count": 5,
   "metadata": {
    "colab": {
     "base_uri": "https://localhost:8080/",
     "height": 203
    },
    "id": "eefsgO-Qh17g",
    "outputId": "687ac0b2-91bd-4807-acb3-d481af13dd73"
   },
   "outputs": [
    {
     "data": {
      "text/html": [
       "<div>\n",
       "<style scoped>\n",
       "    .dataframe tbody tr th:only-of-type {\n",
       "        vertical-align: middle;\n",
       "    }\n",
       "\n",
       "    .dataframe tbody tr th {\n",
       "        vertical-align: top;\n",
       "    }\n",
       "\n",
       "    .dataframe thead th {\n",
       "        text-align: right;\n",
       "    }\n",
       "</style>\n",
       "<table border=\"1\" class=\"dataframe\">\n",
       "  <thead>\n",
       "    <tr style=\"text-align: right;\">\n",
       "      <th></th>\n",
       "      <th>text</th>\n",
       "      <th>author</th>\n",
       "    </tr>\n",
       "  </thead>\n",
       "  <tbody>\n",
       "    <tr>\n",
       "      <th>0</th>\n",
       "      <td>কারওয়ান বাজার এলাকার মাদক ব্যবসা নিয়ন্ত্রণ ক...</td>\n",
       "      <td>Humayun Ahmed</td>\n",
       "    </tr>\n",
       "    <tr>\n",
       "      <th>1</th>\n",
       "      <td>গুলশান এলাকার একটা ফ্যাট সে ভাড়া করে। এই ফ্ল্...</td>\n",
       "      <td>Humayun Ahmed</td>\n",
       "    </tr>\n",
       "    <tr>\n",
       "      <th>2</th>\n",
       "      <td>আমাকে শোভা ডাকতে পারে না। আমাকে ডাকে– শো শো শো...</td>\n",
       "      <td>Humayun Ahmed</td>\n",
       "    </tr>\n",
       "    <tr>\n",
       "      <th>3</th>\n",
       "      <td>রান্না ভালো হয় নি। শোভা আপুর রান্নার হাত জঘন্...</td>\n",
       "      <td>Humayun Ahmed</td>\n",
       "    </tr>\n",
       "    <tr>\n",
       "      <th>4</th>\n",
       "      <td>অবশ্যই । দুপুরে তুমি খাবে। ছোট্ট একটা কাজ করতে...</td>\n",
       "      <td>Humayun Ahmed</td>\n",
       "    </tr>\n",
       "  </tbody>\n",
       "</table>\n",
       "</div>"
      ],
      "text/plain": [
       "                                                text         author\n",
       "0  কারওয়ান বাজার এলাকার মাদক ব্যবসা নিয়ন্ত্রণ ক...  Humayun Ahmed\n",
       "1  গুলশান এলাকার একটা ফ্যাট সে ভাড়া করে। এই ফ্ল্...  Humayun Ahmed\n",
       "2  আমাকে শোভা ডাকতে পারে না। আমাকে ডাকে– শো শো শো...  Humayun Ahmed\n",
       "3  রান্না ভালো হয় নি। শোভা আপুর রান্নার হাত জঘন্...  Humayun Ahmed\n",
       "4  অবশ্যই । দুপুরে তুমি খাবে। ছোট্ট একটা কাজ করতে...  Humayun Ahmed"
      ]
     },
     "execution_count": 5,
     "metadata": {},
     "output_type": "execute_result"
    }
   ],
   "source": [
    "df = pd.read_csv(\"/content/drive/MyDrive/Stylometri_experiment/dataset.csv\")\n",
    "df.head()"
   ]
  },
  {
   "cell_type": "code",
   "execution_count": null,
   "metadata": {
    "id": "svtws1v3iBnN"
   },
   "outputs": [],
   "source": []
  },
  {
   "cell_type": "code",
   "execution_count": null,
   "metadata": {
    "id": "AI9FeSXhnxLW"
   },
   "outputs": [],
   "source": []
  },
  {
   "cell_type": "code",
   "execution_count": 6,
   "metadata": {
    "colab": {
     "base_uri": "https://localhost:8080/"
    },
    "id": "a0xmXasjlJJu",
    "outputId": "18cc47a0-9e2b-4389-ad3a-6f7b020395ed"
   },
   "outputs": [
    {
     "data": {
      "text/plain": [
       "Bivutibhushon Bondopoddhay     100\n",
       "Munir Chowdhury                100\n",
       "MD Jafor Iqbal                 100\n",
       "Promoth Chowdury               100\n",
       "Sawkat Osman                   100\n",
       "Shorot Chandro                 100\n",
       "Bankimchandra Chattopadhyay    100\n",
       "Humayun Ahmed                  100\n",
       "Robindronath Tagore            100\n",
       "Shomoresh Mojumdar             100\n",
       "Manik Bondopoddhay             100\n",
       "Sufia Kamal                    100\n",
       "Taarashankar Bondopoddhay      100\n",
       "Syed Waliullah                 100\n",
       "Name: author, dtype: int64"
      ]
     },
     "execution_count": 6,
     "metadata": {},
     "output_type": "execute_result"
    }
   ],
   "source": [
    "df.author.value_counts()"
   ]
  },
  {
   "cell_type": "code",
   "execution_count": null,
   "metadata": {
    "id": "eSvBrtfKpFmX"
   },
   "outputs": [],
   "source": []
  },
  {
   "cell_type": "markdown",
   "metadata": {
    "id": "U_R_jo95TwFn"
   },
   "source": [
    "## Preprocessing"
   ]
  },
  {
   "cell_type": "code",
   "execution_count": 9,
   "metadata": {
    "id": "4ky-ifn17F7o"
   },
   "outputs": [],
   "source": [
    "import re\n",
    "df['prep']=df.text.apply(lambda x: [i for i in re.sub(r'[^\\u0980-\\u09E3 A-Za-z]+', ' ', str(x)).split() if len(i) > 1])"
   ]
  },
  {
   "cell_type": "code",
   "execution_count": 10,
   "metadata": {
    "id": "4NFIwB5ZG1Xa"
   },
   "outputs": [],
   "source": [
    "df= df[df.prep.apply(lambda x: len(x)) > 0]"
   ]
  },
  {
   "cell_type": "code",
   "execution_count": 11,
   "metadata": {
    "id": "vF5pZQpTDEfB"
   },
   "outputs": [],
   "source": [
    "## Encoding\n",
    "from sklearn.preprocessing import LabelEncoder\n",
    "le=LabelEncoder()\n",
    "df['target']=le.fit_transform(df['author'])"
   ]
  },
  {
   "cell_type": "code",
   "execution_count": 12,
   "metadata": {
    "colab": {
     "base_uri": "https://localhost:8080/",
     "height": 480
    },
    "id": "PZRr0BJ1t3hQ",
    "outputId": "adfb2138-41c5-47dc-b014-06d4401eecd6"
   },
   "outputs": [
    {
     "data": {
      "text/html": [
       "<div>\n",
       "<style scoped>\n",
       "    .dataframe tbody tr th:only-of-type {\n",
       "        vertical-align: middle;\n",
       "    }\n",
       "\n",
       "    .dataframe tbody tr th {\n",
       "        vertical-align: top;\n",
       "    }\n",
       "\n",
       "    .dataframe thead th {\n",
       "        text-align: right;\n",
       "    }\n",
       "</style>\n",
       "<table border=\"1\" class=\"dataframe\">\n",
       "  <thead>\n",
       "    <tr style=\"text-align: right;\">\n",
       "      <th></th>\n",
       "      <th>author</th>\n",
       "      <th>target</th>\n",
       "    </tr>\n",
       "  </thead>\n",
       "  <tbody>\n",
       "    <tr>\n",
       "      <th>0</th>\n",
       "      <td>Bankimchandra Chattopadhyay</td>\n",
       "      <td>0</td>\n",
       "    </tr>\n",
       "    <tr>\n",
       "      <th>1</th>\n",
       "      <td>Bivutibhushon Bondopoddhay</td>\n",
       "      <td>1</td>\n",
       "    </tr>\n",
       "    <tr>\n",
       "      <th>2</th>\n",
       "      <td>Humayun Ahmed</td>\n",
       "      <td>2</td>\n",
       "    </tr>\n",
       "    <tr>\n",
       "      <th>3</th>\n",
       "      <td>MD Jafor Iqbal</td>\n",
       "      <td>3</td>\n",
       "    </tr>\n",
       "    <tr>\n",
       "      <th>4</th>\n",
       "      <td>Manik Bondopoddhay</td>\n",
       "      <td>4</td>\n",
       "    </tr>\n",
       "    <tr>\n",
       "      <th>5</th>\n",
       "      <td>Munir Chowdhury</td>\n",
       "      <td>5</td>\n",
       "    </tr>\n",
       "    <tr>\n",
       "      <th>6</th>\n",
       "      <td>Promoth Chowdury</td>\n",
       "      <td>6</td>\n",
       "    </tr>\n",
       "    <tr>\n",
       "      <th>7</th>\n",
       "      <td>Robindronath Tagore</td>\n",
       "      <td>7</td>\n",
       "    </tr>\n",
       "    <tr>\n",
       "      <th>8</th>\n",
       "      <td>Sawkat Osman</td>\n",
       "      <td>8</td>\n",
       "    </tr>\n",
       "    <tr>\n",
       "      <th>9</th>\n",
       "      <td>Shomoresh Mojumdar</td>\n",
       "      <td>9</td>\n",
       "    </tr>\n",
       "    <tr>\n",
       "      <th>10</th>\n",
       "      <td>Shorot Chandro</td>\n",
       "      <td>10</td>\n",
       "    </tr>\n",
       "    <tr>\n",
       "      <th>11</th>\n",
       "      <td>Sufia Kamal</td>\n",
       "      <td>11</td>\n",
       "    </tr>\n",
       "    <tr>\n",
       "      <th>12</th>\n",
       "      <td>Syed Waliullah</td>\n",
       "      <td>12</td>\n",
       "    </tr>\n",
       "    <tr>\n",
       "      <th>13</th>\n",
       "      <td>Taarashankar Bondopoddhay</td>\n",
       "      <td>13</td>\n",
       "    </tr>\n",
       "  </tbody>\n",
       "</table>\n",
       "</div>"
      ],
      "text/plain": [
       "                         author  target\n",
       "0   Bankimchandra Chattopadhyay       0\n",
       "1    Bivutibhushon Bondopoddhay       1\n",
       "2                 Humayun Ahmed       2\n",
       "3                MD Jafor Iqbal       3\n",
       "4            Manik Bondopoddhay       4\n",
       "5               Munir Chowdhury       5\n",
       "6              Promoth Chowdury       6\n",
       "7           Robindronath Tagore       7\n",
       "8                  Sawkat Osman       8\n",
       "9            Shomoresh Mojumdar       9\n",
       "10               Shorot Chandro      10\n",
       "11                  Sufia Kamal      11\n",
       "12               Syed Waliullah      12\n",
       "13    Taarashankar Bondopoddhay      13"
      ]
     },
     "execution_count": 12,
     "metadata": {},
     "output_type": "execute_result"
    }
   ],
   "source": [
    "df[['author', 'target']].drop_duplicates(subset=['author']).sort_values(by=['target']).reset_index(drop=True)"
   ]
  },
  {
   "cell_type": "code",
   "execution_count": null,
   "metadata": {
    "id": "GYmNqskruWMj"
   },
   "outputs": [],
   "source": [
    "# !pip install bnlp_toolkit"
   ]
  },
  {
   "cell_type": "code",
   "execution_count": 13,
   "metadata": {
    "colab": {
     "base_uri": "https://localhost:8080/",
     "height": 142
    },
    "id": "HWloXrEbNUVL",
    "outputId": "69e23c63-d64c-4622-a415-432c26801c1f"
   },
   "outputs": [
    {
     "data": {
      "text/html": [
       "<div>\n",
       "<style scoped>\n",
       "    .dataframe tbody tr th:only-of-type {\n",
       "        vertical-align: middle;\n",
       "    }\n",
       "\n",
       "    .dataframe tbody tr th {\n",
       "        vertical-align: top;\n",
       "    }\n",
       "\n",
       "    .dataframe thead th {\n",
       "        text-align: right;\n",
       "    }\n",
       "</style>\n",
       "<table border=\"1\" class=\"dataframe\">\n",
       "  <thead>\n",
       "    <tr style=\"text-align: right;\">\n",
       "      <th></th>\n",
       "      <th>text</th>\n",
       "      <th>author</th>\n",
       "      <th>prep</th>\n",
       "      <th>target</th>\n",
       "    </tr>\n",
       "  </thead>\n",
       "  <tbody>\n",
       "    <tr>\n",
       "      <th>0</th>\n",
       "      <td>কারওয়ান বাজার এলাকার মাদক ব্যবসা নিয়ন্ত্রণ ক...</td>\n",
       "      <td>Humayun Ahmed</td>\n",
       "      <td>[কারওয়ান, বাজার, এলাকার, মাদক, ব্যবসা, নিয়ন্...</td>\n",
       "      <td>2</td>\n",
       "    </tr>\n",
       "    <tr>\n",
       "      <th>1</th>\n",
       "      <td>গুলশান এলাকার একটা ফ্যাট সে ভাড়া করে। এই ফ্ল্...</td>\n",
       "      <td>Humayun Ahmed</td>\n",
       "      <td>[গুলশান, এলাকার, একটা, ফ্যাট, সে, ভাড়া, করে, ...</td>\n",
       "      <td>2</td>\n",
       "    </tr>\n",
       "    <tr>\n",
       "      <th>2</th>\n",
       "      <td>আমাকে শোভা ডাকতে পারে না। আমাকে ডাকে– শো শো শো...</td>\n",
       "      <td>Humayun Ahmed</td>\n",
       "      <td>[আমাকে, শোভা, ডাকতে, পারে, না, আমাকে, ডাকে, শো...</td>\n",
       "      <td>2</td>\n",
       "    </tr>\n",
       "  </tbody>\n",
       "</table>\n",
       "</div>"
      ],
      "text/plain": [
       "                                                text  ... target\n",
       "0  কারওয়ান বাজার এলাকার মাদক ব্যবসা নিয়ন্ত্রণ ক...  ...      2\n",
       "1  গুলশান এলাকার একটা ফ্যাট সে ভাড়া করে। এই ফ্ল্...  ...      2\n",
       "2  আমাকে শোভা ডাকতে পারে না। আমাকে ডাকে– শো শো শো...  ...      2\n",
       "\n",
       "[3 rows x 4 columns]"
      ]
     },
     "execution_count": 13,
     "metadata": {},
     "output_type": "execute_result"
    }
   ],
   "source": [
    "df.head(3)"
   ]
  },
  {
   "cell_type": "markdown",
   "metadata": {
    "id": "FXhzCaQFbjbN"
   },
   "source": [
    "## Data Partitioning"
   ]
  },
  {
   "cell_type": "code",
   "execution_count": 14,
   "metadata": {
    "id": "ENiXTGT3IO9G"
   },
   "outputs": [],
   "source": [
    "X = df['prep']\n",
    "y = df['target']"
   ]
  },
  {
   "cell_type": "code",
   "execution_count": 63,
   "metadata": {
    "colab": {
     "base_uri": "https://localhost:8080/"
    },
    "id": "vQcSbZ6Dba_9",
    "outputId": "58b49052-51d2-4465-b8c6-04e0c45c97b3"
   },
   "outputs": [
    {
     "name": "stdout",
     "output_type": "stream",
     "text": [
      "Training shape: (1120,)\n",
      "Validation shape: (140,)\n",
      "Testing shape: (140,)\n"
     ]
    }
   ],
   "source": [
    "from sklearn.model_selection import train_test_split\n",
    "X_train, X_val, y_train, y_val = train_test_split(X, y, test_size=0.2, random_state=0, stratify=y)\n",
    "X_val, X_test, y_val, y_test = train_test_split(X_val, y_val, test_size=0.5, random_state=0, stratify=y_val)\n",
    "\n",
    "print(\"\"\"Training shape: {}\n",
    "Validation shape: {}\n",
    "Testing shape: {}\"\"\".format(X_train.shape, X_val.shape, X_test.shape))"
   ]
  },
  {
   "cell_type": "markdown",
   "metadata": {
    "id": "bijnqAUlemhQ"
   },
   "source": [
    "## Load fastText pre-trained model"
   ]
  },
  {
   "cell_type": "code",
   "execution_count": 19,
   "metadata": {
    "colab": {
     "base_uri": "https://localhost:8080/"
    },
    "id": "Vfyem8n2wPNE",
    "outputId": "06290f59-1ef3-4915-8107-bd01d0c6b7d8"
   },
   "outputs": [
    {
     "name": "stdout",
     "output_type": "stream",
     "text": [
      "Archive:  /content/drive/MyDrive/Clickbait/Copy of cc.bn.300.zip\n",
      "  inflating: /content/cc.bn.300.vec  \n"
     ]
    }
   ],
   "source": [
    "!unzip \"/content/drive/MyDrive/Clickbait/Copy of cc.bn.300.zip\" -d /content"
   ]
  },
  {
   "cell_type": "code",
   "execution_count": 20,
   "metadata": {
    "id": "iPvxxfL9ztrT"
   },
   "outputs": [],
   "source": [
    "from gensim.models import KeyedVectors\n",
    "\n",
    "path = '/content/cc.bn.300.vec'\n",
    "fastText_model = KeyedVectors.load_word2vec_format(path, binary=False)"
   ]
  },
  {
   "cell_type": "markdown",
   "metadata": {
    "id": "uLO6oFQogA22"
   },
   "source": [
    "## Feature Extraction"
   ]
  },
  {
   "cell_type": "code",
   "execution_count": 64,
   "metadata": {
    "id": "K_gocRwc9scY"
   },
   "outputs": [],
   "source": [
    "def embedding_vectorizer(fastText_model, docs):\n",
    "    mean_vecs = []\n",
    "    for instance in docs:\n",
    "        vecs = []\n",
    "        for word in instance:\n",
    "            if word in fastText_model.vocab:\n",
    "                vecs.append(fastText_model[word])\n",
    "            else:\n",
    "                vecs.append(np.zeros(fastText_model.vector_size))\n",
    "                \n",
    "        mean_vecs.append(np.mean(vecs, axis=0))\n",
    "        \n",
    "    return mean_vecs"
   ]
  },
  {
   "cell_type": "code",
   "execution_count": 65,
   "metadata": {
    "id": "LTzDOH9fgD76"
   },
   "outputs": [],
   "source": [
    "x_train_vectorized = embedding_vectorizer(fastText_model, X_train)\n",
    "x_train_vectorized = pd.DataFrame(x_train_vectorized).add_prefix('col_')"
   ]
  },
  {
   "cell_type": "code",
   "execution_count": 66,
   "metadata": {
    "id": "Uty7G-DHuWYe"
   },
   "outputs": [],
   "source": [
    "x_val_vectorized = embedding_vectorizer(fastText_model, X_val)\n",
    "x_val_vectorized = pd.DataFrame(x_val_vectorized).add_prefix('col_')"
   ]
  },
  {
   "cell_type": "code",
   "execution_count": 67,
   "metadata": {
    "id": "p_b8C3u1QfNb"
   },
   "outputs": [],
   "source": [
    "x_test_vectorized = embedding_vectorizer(fastText_model, X_test)\n",
    "x_test_vectorized = pd.DataFrame(x_test_vectorized).add_prefix('col_')"
   ]
  },
  {
   "cell_type": "code",
   "execution_count": 68,
   "metadata": {
    "id": "aUwQ2hmA0C17"
   },
   "outputs": [],
   "source": [
    "from keras.utils import to_categorical\n",
    "\n",
    "y_train_k = to_categorical(y_train, num_classes=14)\n",
    "y_val_k = to_categorical(y_val, num_classes=14)\n",
    "y_test_k = to_categorical(y_test, num_classes=14)"
   ]
  },
  {
   "cell_type": "code",
   "execution_count": 69,
   "metadata": {
    "id": "Rc1nXrbvt2VV"
   },
   "outputs": [],
   "source": [
    "import tensorflow as tf\n",
    "import random as rn\n",
    "\n",
    "from keras.models import Sequential\n",
    "from keras.layers import Dense, Dropout\n",
    "from keras.callbacks import History\n",
    "from keras.optimizers import Adam, SGD"
   ]
  },
  {
   "cell_type": "code",
   "execution_count": 80,
   "metadata": {
    "colab": {
     "base_uri": "https://localhost:8080/"
    },
    "id": "Wg3yD1SguBjx",
    "outputId": "581cf440-c5c9-4476-f4e3-2a3d00384d6c"
   },
   "outputs": [
    {
     "name": "stdout",
     "output_type": "stream",
     "text": [
      "Train on 1120 samples, validate on 140 samples\n",
      "Epoch 1/150\n",
      "1120/1120 [==============================] - 1s 733us/step - loss: 2.5796 - accuracy: 0.1241 - val_loss: 2.4464 - val_accuracy: 0.2143\n",
      "Epoch 2/150\n",
      "1120/1120 [==============================] - 0s 194us/step - loss: 2.2762 - accuracy: 0.2723 - val_loss: 2.0099 - val_accuracy: 0.4143\n",
      "Epoch 3/150\n",
      "1120/1120 [==============================] - 0s 209us/step - loss: 1.8749 - accuracy: 0.4098 - val_loss: 1.6433 - val_accuracy: 0.5500\n",
      "Epoch 4/150\n",
      "1120/1120 [==============================] - 0s 202us/step - loss: 1.5584 - accuracy: 0.5018 - val_loss: 1.4149 - val_accuracy: 0.6071\n",
      "Epoch 5/150\n",
      "1120/1120 [==============================] - 0s 190us/step - loss: 1.3517 - accuracy: 0.5857 - val_loss: 1.2426 - val_accuracy: 0.6214\n",
      "Epoch 6/150\n",
      "1120/1120 [==============================] - 0s 204us/step - loss: 1.2168 - accuracy: 0.6098 - val_loss: 1.1129 - val_accuracy: 0.6786\n",
      "Epoch 7/150\n",
      "1120/1120 [==============================] - 0s 222us/step - loss: 1.0616 - accuracy: 0.6634 - val_loss: 1.0469 - val_accuracy: 0.7000\n",
      "Epoch 8/150\n",
      "1120/1120 [==============================] - 0s 219us/step - loss: 1.0034 - accuracy: 0.6839 - val_loss: 0.9289 - val_accuracy: 0.7429\n",
      "Epoch 9/150\n",
      "1120/1120 [==============================] - 0s 214us/step - loss: 0.8435 - accuracy: 0.7500 - val_loss: 0.8599 - val_accuracy: 0.7357\n",
      "Epoch 10/150\n",
      "1120/1120 [==============================] - 0s 197us/step - loss: 0.7955 - accuracy: 0.7437 - val_loss: 0.8202 - val_accuracy: 0.7714\n",
      "Epoch 11/150\n",
      "1120/1120 [==============================] - 0s 231us/step - loss: 0.6480 - accuracy: 0.8054 - val_loss: 0.8253 - val_accuracy: 0.7143\n",
      "Epoch 12/150\n",
      "1120/1120 [==============================] - 0s 205us/step - loss: 0.6666 - accuracy: 0.7929 - val_loss: 0.8727 - val_accuracy: 0.7571\n",
      "Epoch 13/150\n",
      "1120/1120 [==============================] - 0s 194us/step - loss: 0.5953 - accuracy: 0.8116 - val_loss: 0.7240 - val_accuracy: 0.7786\n",
      "Epoch 14/150\n",
      "1120/1120 [==============================] - 0s 203us/step - loss: 0.5630 - accuracy: 0.8268 - val_loss: 0.7460 - val_accuracy: 0.7500\n",
      "Epoch 15/150\n",
      "1120/1120 [==============================] - 0s 193us/step - loss: 0.5227 - accuracy: 0.8241 - val_loss: 0.6322 - val_accuracy: 0.8357\n",
      "Epoch 16/150\n",
      "1120/1120 [==============================] - 0s 193us/step - loss: 0.4926 - accuracy: 0.8438 - val_loss: 0.6461 - val_accuracy: 0.8429\n",
      "Epoch 17/150\n",
      "1120/1120 [==============================] - 0s 205us/step - loss: 0.4914 - accuracy: 0.8509 - val_loss: 0.6064 - val_accuracy: 0.8143\n",
      "Epoch 18/150\n",
      "1120/1120 [==============================] - 0s 198us/step - loss: 0.4283 - accuracy: 0.8714 - val_loss: 0.6221 - val_accuracy: 0.8357\n",
      "Epoch 19/150\n",
      "1120/1120 [==============================] - 0s 190us/step - loss: 0.3936 - accuracy: 0.8777 - val_loss: 0.5979 - val_accuracy: 0.8143\n",
      "Epoch 20/150\n",
      "1120/1120 [==============================] - 0s 196us/step - loss: 0.4006 - accuracy: 0.8705 - val_loss: 0.5611 - val_accuracy: 0.8357\n",
      "Epoch 21/150\n",
      "1120/1120 [==============================] - 0s 197us/step - loss: 0.3675 - accuracy: 0.8866 - val_loss: 0.5684 - val_accuracy: 0.8500\n",
      "Epoch 22/150\n",
      "1120/1120 [==============================] - 0s 197us/step - loss: 0.3842 - accuracy: 0.8679 - val_loss: 0.5527 - val_accuracy: 0.8286\n",
      "Epoch 23/150\n",
      "1120/1120 [==============================] - 0s 197us/step - loss: 0.3400 - accuracy: 0.8955 - val_loss: 0.6847 - val_accuracy: 0.7857\n",
      "Epoch 24/150\n",
      "1120/1120 [==============================] - 0s 202us/step - loss: 0.3414 - accuracy: 0.8866 - val_loss: 0.5655 - val_accuracy: 0.8429\n",
      "Epoch 25/150\n",
      "1120/1120 [==============================] - 0s 197us/step - loss: 0.3179 - accuracy: 0.9071 - val_loss: 0.5173 - val_accuracy: 0.8500\n",
      "Epoch 26/150\n",
      "1120/1120 [==============================] - 0s 212us/step - loss: 0.2875 - accuracy: 0.9152 - val_loss: 0.5422 - val_accuracy: 0.8500\n",
      "Epoch 27/150\n",
      "1120/1120 [==============================] - 0s 197us/step - loss: 0.2616 - accuracy: 0.9241 - val_loss: 0.5489 - val_accuracy: 0.8571\n",
      "Epoch 28/150\n",
      "1120/1120 [==============================] - 0s 187us/step - loss: 0.2886 - accuracy: 0.9054 - val_loss: 0.5249 - val_accuracy: 0.8357\n",
      "Epoch 29/150\n",
      "1120/1120 [==============================] - 0s 202us/step - loss: 0.2636 - accuracy: 0.9143 - val_loss: 0.5188 - val_accuracy: 0.8571\n",
      "Epoch 30/150\n",
      "1120/1120 [==============================] - 0s 225us/step - loss: 0.2239 - accuracy: 0.9304 - val_loss: 0.5280 - val_accuracy: 0.8429\n",
      "Epoch 31/150\n",
      "1120/1120 [==============================] - 0s 223us/step - loss: 0.2292 - accuracy: 0.9277 - val_loss: 0.5051 - val_accuracy: 0.8429\n",
      "Epoch 32/150\n",
      "1120/1120 [==============================] - 0s 198us/step - loss: 0.2211 - accuracy: 0.9286 - val_loss: 0.5310 - val_accuracy: 0.8500\n",
      "Epoch 33/150\n",
      "1120/1120 [==============================] - 0s 207us/step - loss: 0.2082 - accuracy: 0.9321 - val_loss: 0.5162 - val_accuracy: 0.8643\n",
      "Epoch 34/150\n",
      "1120/1120 [==============================] - 0s 185us/step - loss: 0.1941 - accuracy: 0.9304 - val_loss: 0.4924 - val_accuracy: 0.8571\n",
      "Epoch 35/150\n",
      "1120/1120 [==============================] - 0s 214us/step - loss: 0.2077 - accuracy: 0.9366 - val_loss: 0.4814 - val_accuracy: 0.8857\n",
      "Epoch 36/150\n",
      "1120/1120 [==============================] - 0s 192us/step - loss: 0.1714 - accuracy: 0.9429 - val_loss: 0.4493 - val_accuracy: 0.8857\n",
      "Epoch 37/150\n",
      "1120/1120 [==============================] - 0s 206us/step - loss: 0.1836 - accuracy: 0.9348 - val_loss: 0.4875 - val_accuracy: 0.9000\n",
      "Epoch 38/150\n",
      "1120/1120 [==============================] - 0s 209us/step - loss: 0.1445 - accuracy: 0.9554 - val_loss: 0.4707 - val_accuracy: 0.8929\n",
      "Epoch 39/150\n",
      "1120/1120 [==============================] - 0s 212us/step - loss: 0.1522 - accuracy: 0.9482 - val_loss: 0.4899 - val_accuracy: 0.8643\n",
      "Epoch 40/150\n",
      "1120/1120 [==============================] - 0s 235us/step - loss: 0.1358 - accuracy: 0.9554 - val_loss: 0.5305 - val_accuracy: 0.8643\n",
      "Epoch 41/150\n",
      "1120/1120 [==============================] - 0s 216us/step - loss: 0.1299 - accuracy: 0.9634 - val_loss: 0.4809 - val_accuracy: 0.8857\n",
      "Epoch 42/150\n",
      "1120/1120 [==============================] - 0s 206us/step - loss: 0.1410 - accuracy: 0.9598 - val_loss: 0.4703 - val_accuracy: 0.9000\n",
      "Epoch 43/150\n",
      "1120/1120 [==============================] - 0s 224us/step - loss: 0.1617 - accuracy: 0.9455 - val_loss: 0.5154 - val_accuracy: 0.8714\n",
      "Epoch 44/150\n",
      "1120/1120 [==============================] - 0s 197us/step - loss: 0.1531 - accuracy: 0.9438 - val_loss: 0.5247 - val_accuracy: 0.8857\n",
      "Epoch 45/150\n",
      "1120/1120 [==============================] - 0s 228us/step - loss: 0.1369 - accuracy: 0.9500 - val_loss: 0.4591 - val_accuracy: 0.8857\n",
      "Epoch 46/150\n",
      "1120/1120 [==============================] - 0s 209us/step - loss: 0.1425 - accuracy: 0.9518 - val_loss: 0.6048 - val_accuracy: 0.8571\n",
      "Epoch 47/150\n",
      "1120/1120 [==============================] - 0s 230us/step - loss: 0.1497 - accuracy: 0.9446 - val_loss: 0.5032 - val_accuracy: 0.9071\n",
      "Epoch 48/150\n",
      "1120/1120 [==============================] - 0s 209us/step - loss: 0.1368 - accuracy: 0.9500 - val_loss: 0.4960 - val_accuracy: 0.8857\n",
      "Epoch 49/150\n",
      "1120/1120 [==============================] - 0s 206us/step - loss: 0.1426 - accuracy: 0.9518 - val_loss: 0.4502 - val_accuracy: 0.8929\n",
      "Epoch 50/150\n",
      "1120/1120 [==============================] - 0s 192us/step - loss: 0.1100 - accuracy: 0.9670 - val_loss: 0.4624 - val_accuracy: 0.9000\n",
      "Epoch 51/150\n",
      "1120/1120 [==============================] - 0s 209us/step - loss: 0.1389 - accuracy: 0.9527 - val_loss: 0.4945 - val_accuracy: 0.8786\n",
      "Epoch 52/150\n",
      "1120/1120 [==============================] - 0s 211us/step - loss: 0.1351 - accuracy: 0.9598 - val_loss: 0.4439 - val_accuracy: 0.8786\n",
      "Epoch 53/150\n",
      "1120/1120 [==============================] - 0s 191us/step - loss: 0.0977 - accuracy: 0.9616 - val_loss: 0.4441 - val_accuracy: 0.9143\n",
      "Epoch 54/150\n",
      "1120/1120 [==============================] - 0s 205us/step - loss: 0.1130 - accuracy: 0.9679 - val_loss: 0.5405 - val_accuracy: 0.8857\n",
      "Epoch 55/150\n",
      "1120/1120 [==============================] - 0s 188us/step - loss: 0.1076 - accuracy: 0.9598 - val_loss: 0.5048 - val_accuracy: 0.8786\n",
      "Epoch 56/150\n",
      "1120/1120 [==============================] - 0s 202us/step - loss: 0.1265 - accuracy: 0.9571 - val_loss: 0.5179 - val_accuracy: 0.8929\n",
      "Epoch 57/150\n",
      "1120/1120 [==============================] - 0s 192us/step - loss: 0.1139 - accuracy: 0.9625 - val_loss: 0.5157 - val_accuracy: 0.8786\n",
      "Epoch 58/150\n",
      "1120/1120 [==============================] - 0s 197us/step - loss: 0.1092 - accuracy: 0.9598 - val_loss: 0.5575 - val_accuracy: 0.8857\n",
      "Epoch 59/150\n",
      "1120/1120 [==============================] - 0s 201us/step - loss: 0.1133 - accuracy: 0.9589 - val_loss: 0.5780 - val_accuracy: 0.8786\n",
      "Epoch 60/150\n",
      "1120/1120 [==============================] - 0s 203us/step - loss: 0.1087 - accuracy: 0.9634 - val_loss: 0.5552 - val_accuracy: 0.8786\n",
      "Epoch 61/150\n",
      "1120/1120 [==============================] - 0s 202us/step - loss: 0.0975 - accuracy: 0.9643 - val_loss: 0.5990 - val_accuracy: 0.8643\n",
      "Epoch 62/150\n",
      "1120/1120 [==============================] - 0s 207us/step - loss: 0.1120 - accuracy: 0.9589 - val_loss: 0.5318 - val_accuracy: 0.9143\n",
      "Epoch 63/150\n",
      "1120/1120 [==============================] - 0s 208us/step - loss: 0.0978 - accuracy: 0.9714 - val_loss: 0.5635 - val_accuracy: 0.8857\n",
      "Epoch 64/150\n",
      "1120/1120 [==============================] - 0s 208us/step - loss: 0.0735 - accuracy: 0.9786 - val_loss: 0.5819 - val_accuracy: 0.8786\n",
      "Epoch 65/150\n",
      "1120/1120 [==============================] - 0s 220us/step - loss: 0.0689 - accuracy: 0.9768 - val_loss: 0.5263 - val_accuracy: 0.9000\n",
      "Epoch 66/150\n",
      "1120/1120 [==============================] - 0s 220us/step - loss: 0.0717 - accuracy: 0.9786 - val_loss: 0.5571 - val_accuracy: 0.8786\n",
      "Epoch 67/150\n",
      "1120/1120 [==============================] - 0s 197us/step - loss: 0.1003 - accuracy: 0.9661 - val_loss: 0.5276 - val_accuracy: 0.8786\n",
      "Epoch 68/150\n",
      "1120/1120 [==============================] - 0s 216us/step - loss: 0.0670 - accuracy: 0.9777 - val_loss: 0.5302 - val_accuracy: 0.8714\n",
      "Epoch 69/150\n",
      "1120/1120 [==============================] - 0s 222us/step - loss: 0.1068 - accuracy: 0.9688 - val_loss: 0.5128 - val_accuracy: 0.9071\n",
      "Epoch 70/150\n",
      "1120/1120 [==============================] - 0s 212us/step - loss: 0.0902 - accuracy: 0.9696 - val_loss: 0.5911 - val_accuracy: 0.8786\n",
      "Epoch 71/150\n",
      "1120/1120 [==============================] - 0s 206us/step - loss: 0.1225 - accuracy: 0.9643 - val_loss: 0.6785 - val_accuracy: 0.8500\n",
      "Epoch 72/150\n",
      "1120/1120 [==============================] - 0s 203us/step - loss: 0.1113 - accuracy: 0.9598 - val_loss: 0.5509 - val_accuracy: 0.9071\n",
      "Epoch 73/150\n",
      "1120/1120 [==============================] - 0s 236us/step - loss: 0.0959 - accuracy: 0.9661 - val_loss: 0.5917 - val_accuracy: 0.8857\n",
      "Epoch 74/150\n",
      "1120/1120 [==============================] - 0s 206us/step - loss: 0.1152 - accuracy: 0.9598 - val_loss: 0.5941 - val_accuracy: 0.8857\n",
      "Epoch 75/150\n",
      "1120/1120 [==============================] - 0s 210us/step - loss: 0.1109 - accuracy: 0.9652 - val_loss: 0.5065 - val_accuracy: 0.8929\n",
      "Epoch 76/150\n",
      "1120/1120 [==============================] - 0s 211us/step - loss: 0.0798 - accuracy: 0.9723 - val_loss: 0.6499 - val_accuracy: 0.8786\n",
      "Epoch 77/150\n",
      "1120/1120 [==============================] - 0s 232us/step - loss: 0.1033 - accuracy: 0.9634 - val_loss: 0.4906 - val_accuracy: 0.9000\n",
      "Epoch 78/150\n",
      "1120/1120 [==============================] - 0s 233us/step - loss: 0.0975 - accuracy: 0.9696 - val_loss: 0.5525 - val_accuracy: 0.8857\n",
      "Epoch 79/150\n",
      "1120/1120 [==============================] - 0s 221us/step - loss: 0.1036 - accuracy: 0.9634 - val_loss: 0.5678 - val_accuracy: 0.8571\n",
      "Epoch 80/150\n",
      "1120/1120 [==============================] - 0s 214us/step - loss: 0.0781 - accuracy: 0.9786 - val_loss: 0.5616 - val_accuracy: 0.9000\n",
      "Epoch 81/150\n",
      "1120/1120 [==============================] - 0s 246us/step - loss: 0.0679 - accuracy: 0.9732 - val_loss: 0.4998 - val_accuracy: 0.9000\n",
      "Epoch 82/150\n",
      "1120/1120 [==============================] - 0s 226us/step - loss: 0.0694 - accuracy: 0.9723 - val_loss: 0.5611 - val_accuracy: 0.9000\n",
      "Epoch 83/150\n",
      "1120/1120 [==============================] - 0s 202us/step - loss: 0.0781 - accuracy: 0.9786 - val_loss: 0.6924 - val_accuracy: 0.8857\n",
      "Epoch 84/150\n",
      "1120/1120 [==============================] - 0s 225us/step - loss: 0.0729 - accuracy: 0.9750 - val_loss: 0.6144 - val_accuracy: 0.9000\n",
      "Epoch 85/150\n",
      "1120/1120 [==============================] - 0s 219us/step - loss: 0.0655 - accuracy: 0.9750 - val_loss: 0.6599 - val_accuracy: 0.8786\n",
      "Epoch 86/150\n",
      "1120/1120 [==============================] - 0s 194us/step - loss: 0.0768 - accuracy: 0.9705 - val_loss: 0.7525 - val_accuracy: 0.8429\n",
      "Epoch 87/150\n",
      "1120/1120 [==============================] - 0s 200us/step - loss: 0.0709 - accuracy: 0.9741 - val_loss: 0.6186 - val_accuracy: 0.8857\n",
      "Epoch 88/150\n",
      "1120/1120 [==============================] - 0s 199us/step - loss: 0.0824 - accuracy: 0.9723 - val_loss: 0.5719 - val_accuracy: 0.8929\n",
      "Epoch 89/150\n",
      "1120/1120 [==============================] - 0s 204us/step - loss: 0.0925 - accuracy: 0.9688 - val_loss: 0.7099 - val_accuracy: 0.8786\n",
      "Epoch 90/150\n",
      "1120/1120 [==============================] - 0s 201us/step - loss: 0.0888 - accuracy: 0.9723 - val_loss: 0.5609 - val_accuracy: 0.8857\n",
      "Epoch 91/150\n",
      "1120/1120 [==============================] - 0s 195us/step - loss: 0.0617 - accuracy: 0.9804 - val_loss: 0.6119 - val_accuracy: 0.9000\n",
      "Epoch 92/150\n",
      "1120/1120 [==============================] - 0s 207us/step - loss: 0.0598 - accuracy: 0.9795 - val_loss: 0.5874 - val_accuracy: 0.9071\n",
      "Epoch 93/150\n",
      "1120/1120 [==============================] - 0s 195us/step - loss: 0.0569 - accuracy: 0.9875 - val_loss: 0.6060 - val_accuracy: 0.8857\n",
      "Epoch 94/150\n",
      "1120/1120 [==============================] - 0s 203us/step - loss: 0.0572 - accuracy: 0.9741 - val_loss: 0.5716 - val_accuracy: 0.9071\n",
      "Epoch 95/150\n",
      "1120/1120 [==============================] - 0s 223us/step - loss: 0.0519 - accuracy: 0.9839 - val_loss: 0.5840 - val_accuracy: 0.9071\n",
      "Epoch 96/150\n",
      "1120/1120 [==============================] - 0s 214us/step - loss: 0.0705 - accuracy: 0.9732 - val_loss: 0.6501 - val_accuracy: 0.8857\n",
      "Epoch 97/150\n",
      "1120/1120 [==============================] - 0s 202us/step - loss: 0.0555 - accuracy: 0.9812 - val_loss: 0.7388 - val_accuracy: 0.8929\n",
      "Epoch 98/150\n",
      "1120/1120 [==============================] - 0s 205us/step - loss: 0.0787 - accuracy: 0.9696 - val_loss: 0.6402 - val_accuracy: 0.8714\n",
      "Epoch 99/150\n",
      "1120/1120 [==============================] - 0s 200us/step - loss: 0.0609 - accuracy: 0.9804 - val_loss: 0.6647 - val_accuracy: 0.8929\n",
      "Epoch 100/150\n",
      "1120/1120 [==============================] - 0s 205us/step - loss: 0.0774 - accuracy: 0.9759 - val_loss: 0.6429 - val_accuracy: 0.8857\n",
      "Epoch 101/150\n",
      "1120/1120 [==============================] - 0s 218us/step - loss: 0.0692 - accuracy: 0.9759 - val_loss: 0.6481 - val_accuracy: 0.9000\n",
      "Epoch 102/150\n",
      "1120/1120 [==============================] - 0s 224us/step - loss: 0.0448 - accuracy: 0.9866 - val_loss: 0.6830 - val_accuracy: 0.8714\n",
      "Epoch 103/150\n",
      "1120/1120 [==============================] - 0s 210us/step - loss: 0.0528 - accuracy: 0.9875 - val_loss: 0.6814 - val_accuracy: 0.8786\n",
      "Epoch 104/150\n",
      "1120/1120 [==============================] - 0s 201us/step - loss: 0.0778 - accuracy: 0.9750 - val_loss: 0.7087 - val_accuracy: 0.8929\n",
      "Epoch 105/150\n",
      "1120/1120 [==============================] - 0s 191us/step - loss: 0.0945 - accuracy: 0.9670 - val_loss: 0.5888 - val_accuracy: 0.9286\n",
      "Epoch 106/150\n",
      "1120/1120 [==============================] - 0s 206us/step - loss: 0.0319 - accuracy: 0.9911 - val_loss: 0.6034 - val_accuracy: 0.9071\n",
      "Epoch 107/150\n",
      "1120/1120 [==============================] - 0s 203us/step - loss: 0.0267 - accuracy: 0.9920 - val_loss: 0.5576 - val_accuracy: 0.8929\n",
      "Epoch 108/150\n",
      "1120/1120 [==============================] - 0s 200us/step - loss: 0.0465 - accuracy: 0.9830 - val_loss: 0.6198 - val_accuracy: 0.9000\n",
      "Epoch 109/150\n",
      "1120/1120 [==============================] - 0s 210us/step - loss: 0.0402 - accuracy: 0.9857 - val_loss: 0.6257 - val_accuracy: 0.9000\n",
      "Epoch 110/150\n",
      "1120/1120 [==============================] - 0s 207us/step - loss: 0.0399 - accuracy: 0.9857 - val_loss: 0.6597 - val_accuracy: 0.9143\n",
      "Epoch 111/150\n",
      "1120/1120 [==============================] - 0s 237us/step - loss: 0.0497 - accuracy: 0.9804 - val_loss: 0.7343 - val_accuracy: 0.8929\n",
      "Epoch 112/150\n",
      "1120/1120 [==============================] - 0s 201us/step - loss: 0.0554 - accuracy: 0.9812 - val_loss: 0.7468 - val_accuracy: 0.8857\n",
      "Epoch 113/150\n",
      "1120/1120 [==============================] - 0s 204us/step - loss: 0.0529 - accuracy: 0.9830 - val_loss: 0.7511 - val_accuracy: 0.8786\n",
      "Epoch 114/150\n",
      "1120/1120 [==============================] - 0s 198us/step - loss: 0.0477 - accuracy: 0.9857 - val_loss: 0.7548 - val_accuracy: 0.8929\n",
      "Epoch 115/150\n",
      "1120/1120 [==============================] - 0s 205us/step - loss: 0.0530 - accuracy: 0.9866 - val_loss: 0.7203 - val_accuracy: 0.9000\n",
      "Epoch 116/150\n",
      "1120/1120 [==============================] - 0s 220us/step - loss: 0.0490 - accuracy: 0.9812 - val_loss: 0.7654 - val_accuracy: 0.8929\n",
      "Epoch 117/150\n",
      "1120/1120 [==============================] - 0s 206us/step - loss: 0.0952 - accuracy: 0.9679 - val_loss: 0.7057 - val_accuracy: 0.8929\n",
      "Epoch 118/150\n",
      "1120/1120 [==============================] - 0s 233us/step - loss: 0.0692 - accuracy: 0.9777 - val_loss: 0.7788 - val_accuracy: 0.8857\n",
      "Epoch 119/150\n",
      "1120/1120 [==============================] - 0s 223us/step - loss: 0.1184 - accuracy: 0.9661 - val_loss: 0.7392 - val_accuracy: 0.8786\n",
      "Epoch 120/150\n",
      "1120/1120 [==============================] - 0s 207us/step - loss: 0.0805 - accuracy: 0.9670 - val_loss: 0.8582 - val_accuracy: 0.8786\n",
      "Epoch 121/150\n",
      "1120/1120 [==============================] - 0s 198us/step - loss: 0.0734 - accuracy: 0.9795 - val_loss: 0.6870 - val_accuracy: 0.8714\n",
      "Epoch 122/150\n",
      "1120/1120 [==============================] - 0s 194us/step - loss: 0.0541 - accuracy: 0.9839 - val_loss: 0.7451 - val_accuracy: 0.9071\n",
      "Epoch 123/150\n",
      "1120/1120 [==============================] - 0s 205us/step - loss: 0.0533 - accuracy: 0.9821 - val_loss: 0.7569 - val_accuracy: 0.9000\n",
      "Epoch 124/150\n",
      "1120/1120 [==============================] - 0s 218us/step - loss: 0.0541 - accuracy: 0.9821 - val_loss: 0.7153 - val_accuracy: 0.8857\n",
      "Epoch 125/150\n",
      "1120/1120 [==============================] - 0s 225us/step - loss: 0.0444 - accuracy: 0.9866 - val_loss: 0.7011 - val_accuracy: 0.8929\n",
      "Epoch 126/150\n",
      "1120/1120 [==============================] - 0s 224us/step - loss: 0.0681 - accuracy: 0.9723 - val_loss: 0.7169 - val_accuracy: 0.8929\n",
      "Epoch 127/150\n",
      "1120/1120 [==============================] - 0s 242us/step - loss: 0.0449 - accuracy: 0.9857 - val_loss: 0.6429 - val_accuracy: 0.9143\n",
      "Epoch 128/150\n",
      "1120/1120 [==============================] - 0s 224us/step - loss: 0.0314 - accuracy: 0.9893 - val_loss: 0.6444 - val_accuracy: 0.9357\n",
      "Epoch 129/150\n",
      "1120/1120 [==============================] - 0s 228us/step - loss: 0.0502 - accuracy: 0.9830 - val_loss: 0.7850 - val_accuracy: 0.9000\n",
      "Epoch 130/150\n",
      "1120/1120 [==============================] - 0s 226us/step - loss: 0.0744 - accuracy: 0.9714 - val_loss: 0.6714 - val_accuracy: 0.9071\n",
      "Epoch 131/150\n",
      "1120/1120 [==============================] - 0s 231us/step - loss: 0.0504 - accuracy: 0.9786 - val_loss: 0.7937 - val_accuracy: 0.8857\n",
      "Epoch 132/150\n",
      "1120/1120 [==============================] - 0s 207us/step - loss: 0.0560 - accuracy: 0.9777 - val_loss: 0.6781 - val_accuracy: 0.9071\n",
      "Epoch 133/150\n",
      "1120/1120 [==============================] - 0s 231us/step - loss: 0.0679 - accuracy: 0.9839 - val_loss: 0.7258 - val_accuracy: 0.9143\n",
      "Epoch 134/150\n",
      "1120/1120 [==============================] - 0s 226us/step - loss: 0.0617 - accuracy: 0.9821 - val_loss: 0.6978 - val_accuracy: 0.8929\n",
      "Epoch 135/150\n",
      "1120/1120 [==============================] - 0s 237us/step - loss: 0.0600 - accuracy: 0.9821 - val_loss: 0.5887 - val_accuracy: 0.9071\n",
      "Epoch 136/150\n",
      "1120/1120 [==============================] - 0s 208us/step - loss: 0.0856 - accuracy: 0.9732 - val_loss: 0.7199 - val_accuracy: 0.9071\n",
      "Epoch 137/150\n",
      "1120/1120 [==============================] - 0s 198us/step - loss: 0.0760 - accuracy: 0.9759 - val_loss: 0.6390 - val_accuracy: 0.8857\n",
      "Epoch 138/150\n",
      "1120/1120 [==============================] - 0s 197us/step - loss: 0.0651 - accuracy: 0.9750 - val_loss: 0.6097 - val_accuracy: 0.9000\n",
      "Epoch 139/150\n",
      "1120/1120 [==============================] - 0s 203us/step - loss: 0.0696 - accuracy: 0.9768 - val_loss: 0.7733 - val_accuracy: 0.8571\n",
      "Epoch 140/150\n",
      "1120/1120 [==============================] - 0s 206us/step - loss: 0.0937 - accuracy: 0.9679 - val_loss: 0.6580 - val_accuracy: 0.9071\n",
      "Epoch 141/150\n",
      "1120/1120 [==============================] - 0s 192us/step - loss: 0.0497 - accuracy: 0.9839 - val_loss: 0.7345 - val_accuracy: 0.9000\n",
      "Epoch 142/150\n",
      "1120/1120 [==============================] - 0s 228us/step - loss: 0.0437 - accuracy: 0.9866 - val_loss: 0.8240 - val_accuracy: 0.8643\n",
      "Epoch 143/150\n",
      "1120/1120 [==============================] - 0s 219us/step - loss: 0.0735 - accuracy: 0.9714 - val_loss: 0.7692 - val_accuracy: 0.8857\n",
      "Epoch 144/150\n",
      "1120/1120 [==============================] - 0s 227us/step - loss: 0.0457 - accuracy: 0.9830 - val_loss: 0.7009 - val_accuracy: 0.9143\n",
      "Epoch 145/150\n",
      "1120/1120 [==============================] - 0s 203us/step - loss: 0.0227 - accuracy: 0.9937 - val_loss: 0.6566 - val_accuracy: 0.9000\n",
      "Epoch 146/150\n",
      "1120/1120 [==============================] - 0s 215us/step - loss: 0.0392 - accuracy: 0.9920 - val_loss: 0.7479 - val_accuracy: 0.9000\n",
      "Epoch 147/150\n",
      "1120/1120 [==============================] - 0s 220us/step - loss: 0.0359 - accuracy: 0.9857 - val_loss: 0.7696 - val_accuracy: 0.8786\n",
      "Epoch 148/150\n",
      "1120/1120 [==============================] - 0s 205us/step - loss: 0.0408 - accuracy: 0.9866 - val_loss: 0.7089 - val_accuracy: 0.9214\n",
      "Epoch 149/150\n",
      "1120/1120 [==============================] - 0s 219us/step - loss: 0.0673 - accuracy: 0.9812 - val_loss: 0.8154 - val_accuracy: 0.8929\n",
      "Epoch 150/150\n",
      "1120/1120 [==============================] - 0s 220us/step - loss: 0.0368 - accuracy: 0.9866 - val_loss: 0.7543 - val_accuracy: 0.9143\n"
     ]
    },
    {
     "data": {
      "text/plain": [
       "<keras.callbacks.callbacks.History at 0x7f4961c8c0d0>"
      ]
     },
     "execution_count": 80,
     "metadata": {},
     "output_type": "execute_result"
    }
   ],
   "source": [
    "np.random.seed(2)\n",
    "rn.seed(3)\n",
    "\n",
    "history = History()\n",
    "\n",
    "model = Sequential()\n",
    "model.add(Dense(512, input_dim=300, activation=\"elu\"))\n",
    "model.add(Dropout(0.5))\n",
    "model.add(Dense(256, activation=\"elu\"))\n",
    "model.add(Dropout(0.5))\n",
    "model.add(Dense(128, activation=\"elu\"))\n",
    "model.add(Dropout(0.5))\n",
    "model.add(Dense(14, activation=\"softmax\"))\n",
    "\n",
    "model.compile(optimizer=Adam(0.001), loss=\"categorical_crossentropy\", metrics=['accuracy'])\n",
    "# model.summary()\n",
    "\n",
    "model.fit(np.array(x_train_vectorized), np.array(y_train_k), \n",
    "          validation_data=(np.array(x_val_vectorized), np.array(y_val_k)), \n",
    "          epochs=150,  \n",
    "          shuffle=True, \n",
    "          callbacks=[history], \n",
    "          verbose=True)"
   ]
  },
  {
   "cell_type": "code",
   "execution_count": null,
   "metadata": {
    "id": "q1fXtHVYSS66"
   },
   "outputs": [],
   "source": [
    "# import pickle\n",
    "# with open(\"/content/drive/My Drive/Munna_Research/Experiment/model_2.rifat\", 'wb') as out_file:\n",
    "#  pickle.dump(model, out_file)"
   ]
  },
  {
   "cell_type": "code",
   "execution_count": null,
   "metadata": {
    "id": "oaA0BtXgUpn2"
   },
   "outputs": [],
   "source": [
    "# from sklearn.externals import joblib\n",
    "\n",
    "# # save the model to disk\n",
    "# filename = \"/content/drive/My Drive/Munna_Research/Experiment/model_1.joblib\"\n",
    "# joblib.dump(model, filename)"
   ]
  },
  {
   "cell_type": "code",
   "execution_count": 81,
   "metadata": {
    "id": "vt4m8hmlLr5N"
   },
   "outputs": [],
   "source": [
    "# for visualization\n",
    "his_train_acc = history.history['accuracy']\n",
    "his_val_acc = history.history['val_accuracy']\n",
    "\n",
    "his_train_loss = history.history['loss']\n",
    "his_val_loss = history.history['val_loss']"
   ]
  },
  {
   "cell_type": "code",
   "execution_count": 82,
   "metadata": {
    "colab": {
     "base_uri": "https://localhost:8080/",
     "height": 293
    },
    "id": "_2vhMHvuL_MJ",
    "outputId": "e7968436-e199-4215-8e83-fcd507ad7a2c"
   },
   "outputs": [
    {
     "data": {
      "image/png": "[encoded data removed]",
      "text/plain": [
       "<Figure size 504x288 with 1 Axes>"
      ]
     },
     "metadata": {},
     "output_type": "display_data"
    }
   ],
   "source": [
    "import matplotlib.pyplot as plt\n",
    "import seaborn as sns\n",
    "sns.set(style='whitegrid')\n",
    "\n",
    "fig, ax = plt.subplots(figsize=(7,4))\n",
    "plt.plot(his_train_loss,'darkorange')\n",
    "plt.plot(his_val_loss, 'seagreen')\n",
    "\n",
    "plt.title(\"Training & Validation loss across epochs\",fontsize=15)\n",
    "plt.ylabel('Loss',fontsize=15)\n",
    "plt.xlabel('Epochs',fontsize=15)\n",
    "plt.legend(['Train', 'Validation'], fontsize=15 ,loc='upper right')\n",
    "plt.tight_layout()\n",
    "# plt.savefig(\"multiclass_loss_vs_epochs_fastText_munna.jpg\", dpi=300, bbox_inches='tight')\n",
    "plt.show()"
   ]
  },
  {
   "cell_type": "code",
   "execution_count": 83,
   "metadata": {
    "id": "GGsyU_KHuqP5"
   },
   "outputs": [],
   "source": [
    "loss, test_accuracy = model.evaluate(np.array(x_test_vectorized), np.array(y_test_k), verbose=0)"
   ]
  },
  {
   "cell_type": "code",
   "execution_count": 84,
   "metadata": {
    "colab": {
     "base_uri": "https://localhost:8080/",
     "height": 142
    },
    "id": "rhSUNdFaIa_i",
    "outputId": "c4b10c71-b49d-440f-eca0-cc9933fa67e5"
   },
   "outputs": [
    {
     "data": {
      "text/html": [
       "<div>\n",
       "<style scoped>\n",
       "    .dataframe tbody tr th:only-of-type {\n",
       "        vertical-align: middle;\n",
       "    }\n",
       "\n",
       "    .dataframe tbody tr th {\n",
       "        vertical-align: top;\n",
       "    }\n",
       "\n",
       "    .dataframe thead th {\n",
       "        text-align: right;\n",
       "    }\n",
       "</style>\n",
       "<table border=\"1\" class=\"dataframe\">\n",
       "  <thead>\n",
       "    <tr style=\"text-align: right;\">\n",
       "      <th></th>\n",
       "      <th>Accuracy</th>\n",
       "    </tr>\n",
       "  </thead>\n",
       "  <tbody>\n",
       "    <tr>\n",
       "      <th>Training</th>\n",
       "      <td>0.99</td>\n",
       "    </tr>\n",
       "    <tr>\n",
       "      <th>Validation</th>\n",
       "      <td>0.91</td>\n",
       "    </tr>\n",
       "    <tr>\n",
       "      <th>Test</th>\n",
       "      <td>0.89</td>\n",
       "    </tr>\n",
       "  </tbody>\n",
       "</table>\n",
       "</div>"
      ],
      "text/plain": [
       "            Accuracy\n",
       "Training        0.99\n",
       "Validation      0.91\n",
       "Test            0.89"
      ]
     },
     "execution_count": 84,
     "metadata": {},
     "output_type": "execute_result"
    }
   ],
   "source": [
    "train_accuracy = his_train_acc[-1]\n",
    "val_accuracy = his_val_acc[-1]\n",
    "\n",
    "accuracy_table = pd.DataFrame([round(train_accuracy, 2), round(val_accuracy, 2), round(test_accuracy, 2)], \n",
    "             index=['Training', 'Validation', 'Test'], \n",
    "             columns=['Accuracy'])\n",
    "accuracy_table"
   ]
  },
  {
   "cell_type": "code",
   "execution_count": 85,
   "metadata": {
    "id": "ZTVScY4ZRl6B"
   },
   "outputs": [],
   "source": [
    "from sklearn.metrics import accuracy_score\n",
    "from sklearn.metrics import confusion_matrix\n",
    "from sklearn.metrics import classification_report"
   ]
  },
  {
   "cell_type": "code",
   "execution_count": 86,
   "metadata": {
    "colab": {
     "base_uri": "https://localhost:8080/"
    },
    "id": "9-sC4DsVRmLh",
    "outputId": "6d7647a8-cca3-49c2-dc79-2cac838d8553"
   },
   "outputs": [
    {
     "name": "stdout",
     "output_type": "stream",
     "text": [
      "Test Accuracy: 0.89\n"
     ]
    }
   ],
   "source": [
    "y_pred = model.predict(np.array(x_test_vectorized))\n",
    "ac = accuracy_score(y_test_k.argmax(axis=1), y_pred.argmax(axis=1))\n",
    "print(\"Test Accuracy:\", round(ac, 2))"
   ]
  },
  {
   "cell_type": "code",
   "execution_count": 87,
   "metadata": {
    "id": "YSW7OjVsRleL"
   },
   "outputs": [],
   "source": [
    "# generate confusion matrix\n",
    "cm = confusion_matrix(y_test_k.argmax(axis=1), y_pred.argmax(axis=1))"
   ]
  },
  {
   "cell_type": "code",
   "execution_count": 88,
   "metadata": {
    "colab": {
     "base_uri": "https://localhost:8080/",
     "height": 750
    },
    "id": "QXdi1aQHRzgR",
    "outputId": "afedd3d7-366c-49be-e169-dc1526e1aebd"
   },
   "outputs": [
    {
     "name": "stdout",
     "output_type": "stream",
     "text": [
      "Confusion Matrix: \n"
     ]
    },
    {
     "data": {
      "text/html": [
       "<style  type=\"text/css\" >\n",
       "#T_90e71c24_455a_11ec_b111_0242ac1c0002row0_col0,#T_90e71c24_455a_11ec_b111_0242ac1c0002row0_col1,#T_90e71c24_455a_11ec_b111_0242ac1c0002row0_col2,#T_90e71c24_455a_11ec_b111_0242ac1c0002row0_col3,#T_90e71c24_455a_11ec_b111_0242ac1c0002row0_col4,#T_90e71c24_455a_11ec_b111_0242ac1c0002row0_col5,#T_90e71c24_455a_11ec_b111_0242ac1c0002row0_col6,#T_90e71c24_455a_11ec_b111_0242ac1c0002row0_col7,#T_90e71c24_455a_11ec_b111_0242ac1c0002row0_col8,#T_90e71c24_455a_11ec_b111_0242ac1c0002row0_col9,#T_90e71c24_455a_11ec_b111_0242ac1c0002row0_col10,#T_90e71c24_455a_11ec_b111_0242ac1c0002row0_col11,#T_90e71c24_455a_11ec_b111_0242ac1c0002row0_col12,#T_90e71c24_455a_11ec_b111_0242ac1c0002row0_col13,#T_90e71c24_455a_11ec_b111_0242ac1c0002row1_col0,#T_90e71c24_455a_11ec_b111_0242ac1c0002row1_col1,#T_90e71c24_455a_11ec_b111_0242ac1c0002row1_col2,#T_90e71c24_455a_11ec_b111_0242ac1c0002row1_col3,#T_90e71c24_455a_11ec_b111_0242ac1c0002row1_col4,#T_90e71c24_455a_11ec_b111_0242ac1c0002row1_col5,#T_90e71c24_455a_11ec_b111_0242ac1c0002row1_col6,#T_90e71c24_455a_11ec_b111_0242ac1c0002row1_col7,#T_90e71c24_455a_11ec_b111_0242ac1c0002row1_col8,#T_90e71c24_455a_11ec_b111_0242ac1c0002row1_col9,#T_90e71c24_455a_11ec_b111_0242ac1c0002row1_col10,#T_90e71c24_455a_11ec_b111_0242ac1c0002row1_col11,#T_90e71c24_455a_11ec_b111_0242ac1c0002row1_col12,#T_90e71c24_455a_11ec_b111_0242ac1c0002row1_col13,#T_90e71c24_455a_11ec_b111_0242ac1c0002row2_col0,#T_90e71c24_455a_11ec_b111_0242ac1c0002row2_col1,#T_90e71c24_455a_11ec_b111_0242ac1c0002row2_col2,#T_90e71c24_455a_11ec_b111_0242ac1c0002row2_col3,#T_90e71c24_455a_11ec_b111_0242ac1c0002row2_col4,#T_90e71c24_455a_11ec_b111_0242ac1c0002row2_col5,#T_90e71c24_455a_11ec_b111_0242ac1c0002row2_col6,#T_90e71c24_455a_11ec_b111_0242ac1c0002row2_col7,#T_90e71c24_455a_11ec_b111_0242ac1c0002row2_col8,#T_90e71c24_455a_11ec_b111_0242ac1c0002row2_col9,#T_90e71c24_455a_11ec_b111_0242ac1c0002row2_col10,#T_90e71c24_455a_11ec_b111_0242ac1c0002row2_col11,#T_90e71c24_455a_11ec_b111_0242ac1c0002row2_col12,#T_90e71c24_455a_11ec_b111_0242ac1c0002row2_col13,#T_90e71c24_455a_11ec_b111_0242ac1c0002row3_col0,#T_90e71c24_455a_11ec_b111_0242ac1c0002row3_col1,#T_90e71c24_455a_11ec_b111_0242ac1c0002row3_col2,#T_90e71c24_455a_11ec_b111_0242ac1c0002row3_col3,#T_90e71c24_455a_11ec_b111_0242ac1c0002row3_col4,#T_90e71c24_455a_11ec_b111_0242ac1c0002row3_col5,#T_90e71c24_455a_11ec_b111_0242ac1c0002row3_col6,#T_90e71c24_455a_11ec_b111_0242ac1c0002row3_col7,#T_90e71c24_455a_11ec_b111_0242ac1c0002row3_col8,#T_90e71c24_455a_11ec_b111_0242ac1c0002row3_col9,#T_90e71c24_455a_11ec_b111_0242ac1c0002row3_col10,#T_90e71c24_455a_11ec_b111_0242ac1c0002row3_col11,#T_90e71c24_455a_11ec_b111_0242ac1c0002row3_col12,#T_90e71c24_455a_11ec_b111_0242ac1c0002row3_col13,#T_90e71c24_455a_11ec_b111_0242ac1c0002row4_col0,#T_90e71c24_455a_11ec_b111_0242ac1c0002row4_col1,#T_90e71c24_455a_11ec_b111_0242ac1c0002row4_col2,#T_90e71c24_455a_11ec_b111_0242ac1c0002row4_col3,#T_90e71c24_455a_11ec_b111_0242ac1c0002row4_col4,#T_90e71c24_455a_11ec_b111_0242ac1c0002row4_col5,#T_90e71c24_455a_11ec_b111_0242ac1c0002row4_col6,#T_90e71c24_455a_11ec_b111_0242ac1c0002row4_col7,#T_90e71c24_455a_11ec_b111_0242ac1c0002row4_col8,#T_90e71c24_455a_11ec_b111_0242ac1c0002row4_col9,#T_90e71c24_455a_11ec_b111_0242ac1c0002row4_col10,#T_90e71c24_455a_11ec_b111_0242ac1c0002row4_col11,#T_90e71c24_455a_11ec_b111_0242ac1c0002row4_col12,#T_90e71c24_455a_11ec_b111_0242ac1c0002row4_col13,#T_90e71c24_455a_11ec_b111_0242ac1c0002row5_col0,#T_90e71c24_455a_11ec_b111_0242ac1c0002row5_col1,#T_90e71c24_455a_11ec_b111_0242ac1c0002row5_col2,#T_90e71c24_455a_11ec_b111_0242ac1c0002row5_col3,#T_90e71c24_455a_11ec_b111_0242ac1c0002row5_col4,#T_90e71c24_455a_11ec_b111_0242ac1c0002row5_col5,#T_90e71c24_455a_11ec_b111_0242ac1c0002row5_col6,#T_90e71c24_455a_11ec_b111_0242ac1c0002row5_col7,#T_90e71c24_455a_11ec_b111_0242ac1c0002row5_col8,#T_90e71c24_455a_11ec_b111_0242ac1c0002row5_col9,#T_90e71c24_455a_11ec_b111_0242ac1c0002row5_col10,#T_90e71c24_455a_11ec_b111_0242ac1c0002row5_col11,#T_90e71c24_455a_11ec_b111_0242ac1c0002row5_col12,#T_90e71c24_455a_11ec_b111_0242ac1c0002row5_col13,#T_90e71c24_455a_11ec_b111_0242ac1c0002row6_col0,#T_90e71c24_455a_11ec_b111_0242ac1c0002row6_col1,#T_90e71c24_455a_11ec_b111_0242ac1c0002row6_col2,#T_90e71c24_455a_11ec_b111_0242ac1c0002row6_col3,#T_90e71c24_455a_11ec_b111_0242ac1c0002row6_col4,#T_90e71c24_455a_11ec_b111_0242ac1c0002row6_col5,#T_90e71c24_455a_11ec_b111_0242ac1c0002row6_col6,#T_90e71c24_455a_11ec_b111_0242ac1c0002row6_col7,#T_90e71c24_455a_11ec_b111_0242ac1c0002row6_col8,#T_90e71c24_455a_11ec_b111_0242ac1c0002row6_col9,#T_90e71c24_455a_11ec_b111_0242ac1c0002row6_col10,#T_90e71c24_455a_11ec_b111_0242ac1c0002row6_col11,#T_90e71c24_455a_11ec_b111_0242ac1c0002row6_col12,#T_90e71c24_455a_11ec_b111_0242ac1c0002row6_col13,#T_90e71c24_455a_11ec_b111_0242ac1c0002row7_col0,#T_90e71c24_455a_11ec_b111_0242ac1c0002row7_col1,#T_90e71c24_455a_11ec_b111_0242ac1c0002row7_col2,#T_90e71c24_455a_11ec_b111_0242ac1c0002row7_col3,#T_90e71c24_455a_11ec_b111_0242ac1c0002row7_col4,#T_90e71c24_455a_11ec_b111_0242ac1c0002row7_col5,#T_90e71c24_455a_11ec_b111_0242ac1c0002row7_col6,#T_90e71c24_455a_11ec_b111_0242ac1c0002row7_col7,#T_90e71c24_455a_11ec_b111_0242ac1c0002row7_col8,#T_90e71c24_455a_11ec_b111_0242ac1c0002row7_col9,#T_90e71c24_455a_11ec_b111_0242ac1c0002row7_col10,#T_90e71c24_455a_11ec_b111_0242ac1c0002row7_col11,#T_90e71c24_455a_11ec_b111_0242ac1c0002row7_col12,#T_90e71c24_455a_11ec_b111_0242ac1c0002row7_col13,#T_90e71c24_455a_11ec_b111_0242ac1c0002row8_col0,#T_90e71c24_455a_11ec_b111_0242ac1c0002row8_col1,#T_90e71c24_455a_11ec_b111_0242ac1c0002row8_col2,#T_90e71c24_455a_11ec_b111_0242ac1c0002row8_col3,#T_90e71c24_455a_11ec_b111_0242ac1c0002row8_col4,#T_90e71c24_455a_11ec_b111_0242ac1c0002row8_col5,#T_90e71c24_455a_11ec_b111_0242ac1c0002row8_col6,#T_90e71c24_455a_11ec_b111_0242ac1c0002row8_col7,#T_90e71c24_455a_11ec_b111_0242ac1c0002row8_col8,#T_90e71c24_455a_11ec_b111_0242ac1c0002row8_col9,#T_90e71c24_455a_11ec_b111_0242ac1c0002row8_col10,#T_90e71c24_455a_11ec_b111_0242ac1c0002row8_col11,#T_90e71c24_455a_11ec_b111_0242ac1c0002row8_col12,#T_90e71c24_455a_11ec_b111_0242ac1c0002row8_col13,#T_90e71c24_455a_11ec_b111_0242ac1c0002row9_col0,#T_90e71c24_455a_11ec_b111_0242ac1c0002row9_col1,#T_90e71c24_455a_11ec_b111_0242ac1c0002row9_col2,#T_90e71c24_455a_11ec_b111_0242ac1c0002row9_col3,#T_90e71c24_455a_11ec_b111_0242ac1c0002row9_col4,#T_90e71c24_455a_11ec_b111_0242ac1c0002row9_col5,#T_90e71c24_455a_11ec_b111_0242ac1c0002row9_col6,#T_90e71c24_455a_11ec_b111_0242ac1c0002row9_col7,#T_90e71c24_455a_11ec_b111_0242ac1c0002row9_col8,#T_90e71c24_455a_11ec_b111_0242ac1c0002row9_col9,#T_90e71c24_455a_11ec_b111_0242ac1c0002row9_col10,#T_90e71c24_455a_11ec_b111_0242ac1c0002row9_col11,#T_90e71c24_455a_11ec_b111_0242ac1c0002row9_col12,#T_90e71c24_455a_11ec_b111_0242ac1c0002row9_col13,#T_90e71c24_455a_11ec_b111_0242ac1c0002row10_col0,#T_90e71c24_455a_11ec_b111_0242ac1c0002row10_col1,#T_90e71c24_455a_11ec_b111_0242ac1c0002row10_col2,#T_90e71c24_455a_11ec_b111_0242ac1c0002row10_col3,#T_90e71c24_455a_11ec_b111_0242ac1c0002row10_col4,#T_90e71c24_455a_11ec_b111_0242ac1c0002row10_col5,#T_90e71c24_455a_11ec_b111_0242ac1c0002row10_col6,#T_90e71c24_455a_11ec_b111_0242ac1c0002row10_col7,#T_90e71c24_455a_11ec_b111_0242ac1c0002row10_col8,#T_90e71c24_455a_11ec_b111_0242ac1c0002row10_col9,#T_90e71c24_455a_11ec_b111_0242ac1c0002row10_col10,#T_90e71c24_455a_11ec_b111_0242ac1c0002row10_col11,#T_90e71c24_455a_11ec_b111_0242ac1c0002row10_col12,#T_90e71c24_455a_11ec_b111_0242ac1c0002row10_col13,#T_90e71c24_455a_11ec_b111_0242ac1c0002row11_col0,#T_90e71c24_455a_11ec_b111_0242ac1c0002row11_col1,#T_90e71c24_455a_11ec_b111_0242ac1c0002row11_col2,#T_90e71c24_455a_11ec_b111_0242ac1c0002row11_col3,#T_90e71c24_455a_11ec_b111_0242ac1c0002row11_col4,#T_90e71c24_455a_11ec_b111_0242ac1c0002row11_col5,#T_90e71c24_455a_11ec_b111_0242ac1c0002row11_col6,#T_90e71c24_455a_11ec_b111_0242ac1c0002row11_col7,#T_90e71c24_455a_11ec_b111_0242ac1c0002row11_col8,#T_90e71c24_455a_11ec_b111_0242ac1c0002row11_col9,#T_90e71c24_455a_11ec_b111_0242ac1c0002row11_col10,#T_90e71c24_455a_11ec_b111_0242ac1c0002row11_col11,#T_90e71c24_455a_11ec_b111_0242ac1c0002row11_col12,#T_90e71c24_455a_11ec_b111_0242ac1c0002row11_col13,#T_90e71c24_455a_11ec_b111_0242ac1c0002row12_col0,#T_90e71c24_455a_11ec_b111_0242ac1c0002row12_col1,#T_90e71c24_455a_11ec_b111_0242ac1c0002row12_col2,#T_90e71c24_455a_11ec_b111_0242ac1c0002row12_col3,#T_90e71c24_455a_11ec_b111_0242ac1c0002row12_col4,#T_90e71c24_455a_11ec_b111_0242ac1c0002row12_col5,#T_90e71c24_455a_11ec_b111_0242ac1c0002row12_col6,#T_90e71c24_455a_11ec_b111_0242ac1c0002row12_col7,#T_90e71c24_455a_11ec_b111_0242ac1c0002row12_col8,#T_90e71c24_455a_11ec_b111_0242ac1c0002row12_col9,#T_90e71c24_455a_11ec_b111_0242ac1c0002row12_col10,#T_90e71c24_455a_11ec_b111_0242ac1c0002row12_col11,#T_90e71c24_455a_11ec_b111_0242ac1c0002row12_col12,#T_90e71c24_455a_11ec_b111_0242ac1c0002row12_col13,#T_90e71c24_455a_11ec_b111_0242ac1c0002row13_col0,#T_90e71c24_455a_11ec_b111_0242ac1c0002row13_col1,#T_90e71c24_455a_11ec_b111_0242ac1c0002row13_col2,#T_90e71c24_455a_11ec_b111_0242ac1c0002row13_col3,#T_90e71c24_455a_11ec_b111_0242ac1c0002row13_col4,#T_90e71c24_455a_11ec_b111_0242ac1c0002row13_col5,#T_90e71c24_455a_11ec_b111_0242ac1c0002row13_col6,#T_90e71c24_455a_11ec_b111_0242ac1c0002row13_col7,#T_90e71c24_455a_11ec_b111_0242ac1c0002row13_col8,#T_90e71c24_455a_11ec_b111_0242ac1c0002row13_col9,#T_90e71c24_455a_11ec_b111_0242ac1c0002row13_col10,#T_90e71c24_455a_11ec_b111_0242ac1c0002row13_col11,#T_90e71c24_455a_11ec_b111_0242ac1c0002row13_col12,#T_90e71c24_455a_11ec_b111_0242ac1c0002row13_col13{\n",
       "            background-color:  skyblue;\n",
       "            color:  black;\n",
       "        }</style><table id=\"T_90e71c24_455a_11ec_b111_0242ac1c0002\" class=\"dataframe\"><thead>    <tr>        <th class=\"blank\" ></th>        <th class=\"blank level0\" ></th>        <th class=\"col_heading level0 col0\" colspan=14>Predicted</th>    </tr>    <tr>        <th class=\"blank\" ></th>        <th class=\"blank level1\" ></th>        <th class=\"col_heading level1 col0\" >Bankimchandra Chattopadhyay</th>        <th class=\"col_heading level1 col1\" >Bivutibhushon Bondopoddhay</th>        <th class=\"col_heading level1 col2\" >Humayun Ahmed</th>        <th class=\"col_heading level1 col3\" >MD Jafor Iqbal</th>        <th class=\"col_heading level1 col4\" >Manik Bondopoddhay</th>        <th class=\"col_heading level1 col5\" >Munir Chowdhury</th>        <th class=\"col_heading level1 col6\" >Promoth Chowdury</th>        <th class=\"col_heading level1 col7\" >Robindronath Tagore</th>        <th class=\"col_heading level1 col8\" >Sawkat Osman</th>        <th class=\"col_heading level1 col9\" >Shomoresh Mojumdar</th>        <th class=\"col_heading level1 col10\" >Shorot Chandro</th>        <th class=\"col_heading level1 col11\" >Sufia Kamal</th>        <th class=\"col_heading level1 col12\" >Syed Waliullah</th>        <th class=\"col_heading level1 col13\" >Taarashankar Bondopoddhay</th>    </tr></thead><tbody>\n",
       "                <tr>\n",
       "                        <th id=\"T_90e71c24_455a_11ec_b111_0242ac1c0002level0_row0\" class=\"row_heading level0 row0\" rowspan=14>Actual</th>\n",
       "                        <th id=\"T_90e71c24_455a_11ec_b111_0242ac1c0002level1_row0\" class=\"row_heading level1 row0\" >Bankimchandra Chattopadhyay</th>\n",
       "                        <td id=\"T_90e71c24_455a_11ec_b111_0242ac1c0002row0_col0\" class=\"data row0 col0\" >10</td>\n",
       "                        <td id=\"T_90e71c24_455a_11ec_b111_0242ac1c0002row0_col1\" class=\"data row0 col1\" >0</td>\n",
       "                        <td id=\"T_90e71c24_455a_11ec_b111_0242ac1c0002row0_col2\" class=\"data row0 col2\" >0</td>\n",
       "                        <td id=\"T_90e71c24_455a_11ec_b111_0242ac1c0002row0_col3\" class=\"data row0 col3\" >0</td>\n",
       "                        <td id=\"T_90e71c24_455a_11ec_b111_0242ac1c0002row0_col4\" class=\"data row0 col4\" >0</td>\n",
       "                        <td id=\"T_90e71c24_455a_11ec_b111_0242ac1c0002row0_col5\" class=\"data row0 col5\" >0</td>\n",
       "                        <td id=\"T_90e71c24_455a_11ec_b111_0242ac1c0002row0_col6\" class=\"data row0 col6\" >0</td>\n",
       "                        <td id=\"T_90e71c24_455a_11ec_b111_0242ac1c0002row0_col7\" class=\"data row0 col7\" >0</td>\n",
       "                        <td id=\"T_90e71c24_455a_11ec_b111_0242ac1c0002row0_col8\" class=\"data row0 col8\" >0</td>\n",
       "                        <td id=\"T_90e71c24_455a_11ec_b111_0242ac1c0002row0_col9\" class=\"data row0 col9\" >0</td>\n",
       "                        <td id=\"T_90e71c24_455a_11ec_b111_0242ac1c0002row0_col10\" class=\"data row0 col10\" >0</td>\n",
       "                        <td id=\"T_90e71c24_455a_11ec_b111_0242ac1c0002row0_col11\" class=\"data row0 col11\" >0</td>\n",
       "                        <td id=\"T_90e71c24_455a_11ec_b111_0242ac1c0002row0_col12\" class=\"data row0 col12\" >0</td>\n",
       "                        <td id=\"T_90e71c24_455a_11ec_b111_0242ac1c0002row0_col13\" class=\"data row0 col13\" >0</td>\n",
       "            </tr>\n",
       "            <tr>\n",
       "                                <th id=\"T_90e71c24_455a_11ec_b111_0242ac1c0002level1_row1\" class=\"row_heading level1 row1\" >Bivutibhushon Bondopoddhay</th>\n",
       "                        <td id=\"T_90e71c24_455a_11ec_b111_0242ac1c0002row1_col0\" class=\"data row1 col0\" >0</td>\n",
       "                        <td id=\"T_90e71c24_455a_11ec_b111_0242ac1c0002row1_col1\" class=\"data row1 col1\" >7</td>\n",
       "                        <td id=\"T_90e71c24_455a_11ec_b111_0242ac1c0002row1_col2\" class=\"data row1 col2\" >0</td>\n",
       "                        <td id=\"T_90e71c24_455a_11ec_b111_0242ac1c0002row1_col3\" class=\"data row1 col3\" >0</td>\n",
       "                        <td id=\"T_90e71c24_455a_11ec_b111_0242ac1c0002row1_col4\" class=\"data row1 col4\" >1</td>\n",
       "                        <td id=\"T_90e71c24_455a_11ec_b111_0242ac1c0002row1_col5\" class=\"data row1 col5\" >0</td>\n",
       "                        <td id=\"T_90e71c24_455a_11ec_b111_0242ac1c0002row1_col6\" class=\"data row1 col6\" >0</td>\n",
       "                        <td id=\"T_90e71c24_455a_11ec_b111_0242ac1c0002row1_col7\" class=\"data row1 col7\" >0</td>\n",
       "                        <td id=\"T_90e71c24_455a_11ec_b111_0242ac1c0002row1_col8\" class=\"data row1 col8\" >0</td>\n",
       "                        <td id=\"T_90e71c24_455a_11ec_b111_0242ac1c0002row1_col9\" class=\"data row1 col9\" >0</td>\n",
       "                        <td id=\"T_90e71c24_455a_11ec_b111_0242ac1c0002row1_col10\" class=\"data row1 col10\" >2</td>\n",
       "                        <td id=\"T_90e71c24_455a_11ec_b111_0242ac1c0002row1_col11\" class=\"data row1 col11\" >0</td>\n",
       "                        <td id=\"T_90e71c24_455a_11ec_b111_0242ac1c0002row1_col12\" class=\"data row1 col12\" >0</td>\n",
       "                        <td id=\"T_90e71c24_455a_11ec_b111_0242ac1c0002row1_col13\" class=\"data row1 col13\" >0</td>\n",
       "            </tr>\n",
       "            <tr>\n",
       "                                <th id=\"T_90e71c24_455a_11ec_b111_0242ac1c0002level1_row2\" class=\"row_heading level1 row2\" >Humayun Ahmed</th>\n",
       "                        <td id=\"T_90e71c24_455a_11ec_b111_0242ac1c0002row2_col0\" class=\"data row2 col0\" >0</td>\n",
       "                        <td id=\"T_90e71c24_455a_11ec_b111_0242ac1c0002row2_col1\" class=\"data row2 col1\" >0</td>\n",
       "                        <td id=\"T_90e71c24_455a_11ec_b111_0242ac1c0002row2_col2\" class=\"data row2 col2\" >9</td>\n",
       "                        <td id=\"T_90e71c24_455a_11ec_b111_0242ac1c0002row2_col3\" class=\"data row2 col3\" >1</td>\n",
       "                        <td id=\"T_90e71c24_455a_11ec_b111_0242ac1c0002row2_col4\" class=\"data row2 col4\" >0</td>\n",
       "                        <td id=\"T_90e71c24_455a_11ec_b111_0242ac1c0002row2_col5\" class=\"data row2 col5\" >0</td>\n",
       "                        <td id=\"T_90e71c24_455a_11ec_b111_0242ac1c0002row2_col6\" class=\"data row2 col6\" >0</td>\n",
       "                        <td id=\"T_90e71c24_455a_11ec_b111_0242ac1c0002row2_col7\" class=\"data row2 col7\" >0</td>\n",
       "                        <td id=\"T_90e71c24_455a_11ec_b111_0242ac1c0002row2_col8\" class=\"data row2 col8\" >0</td>\n",
       "                        <td id=\"T_90e71c24_455a_11ec_b111_0242ac1c0002row2_col9\" class=\"data row2 col9\" >0</td>\n",
       "                        <td id=\"T_90e71c24_455a_11ec_b111_0242ac1c0002row2_col10\" class=\"data row2 col10\" >0</td>\n",
       "                        <td id=\"T_90e71c24_455a_11ec_b111_0242ac1c0002row2_col11\" class=\"data row2 col11\" >0</td>\n",
       "                        <td id=\"T_90e71c24_455a_11ec_b111_0242ac1c0002row2_col12\" class=\"data row2 col12\" >0</td>\n",
       "                        <td id=\"T_90e71c24_455a_11ec_b111_0242ac1c0002row2_col13\" class=\"data row2 col13\" >0</td>\n",
       "            </tr>\n",
       "            <tr>\n",
       "                                <th id=\"T_90e71c24_455a_11ec_b111_0242ac1c0002level1_row3\" class=\"row_heading level1 row3\" >MD Jafor Iqbal</th>\n",
       "                        <td id=\"T_90e71c24_455a_11ec_b111_0242ac1c0002row3_col0\" class=\"data row3 col0\" >0</td>\n",
       "                        <td id=\"T_90e71c24_455a_11ec_b111_0242ac1c0002row3_col1\" class=\"data row3 col1\" >0</td>\n",
       "                        <td id=\"T_90e71c24_455a_11ec_b111_0242ac1c0002row3_col2\" class=\"data row3 col2\" >0</td>\n",
       "                        <td id=\"T_90e71c24_455a_11ec_b111_0242ac1c0002row3_col3\" class=\"data row3 col3\" >10</td>\n",
       "                        <td id=\"T_90e71c24_455a_11ec_b111_0242ac1c0002row3_col4\" class=\"data row3 col4\" >0</td>\n",
       "                        <td id=\"T_90e71c24_455a_11ec_b111_0242ac1c0002row3_col5\" class=\"data row3 col5\" >0</td>\n",
       "                        <td id=\"T_90e71c24_455a_11ec_b111_0242ac1c0002row3_col6\" class=\"data row3 col6\" >0</td>\n",
       "                        <td id=\"T_90e71c24_455a_11ec_b111_0242ac1c0002row3_col7\" class=\"data row3 col7\" >0</td>\n",
       "                        <td id=\"T_90e71c24_455a_11ec_b111_0242ac1c0002row3_col8\" class=\"data row3 col8\" >0</td>\n",
       "                        <td id=\"T_90e71c24_455a_11ec_b111_0242ac1c0002row3_col9\" class=\"data row3 col9\" >0</td>\n",
       "                        <td id=\"T_90e71c24_455a_11ec_b111_0242ac1c0002row3_col10\" class=\"data row3 col10\" >0</td>\n",
       "                        <td id=\"T_90e71c24_455a_11ec_b111_0242ac1c0002row3_col11\" class=\"data row3 col11\" >0</td>\n",
       "                        <td id=\"T_90e71c24_455a_11ec_b111_0242ac1c0002row3_col12\" class=\"data row3 col12\" >0</td>\n",
       "                        <td id=\"T_90e71c24_455a_11ec_b111_0242ac1c0002row3_col13\" class=\"data row3 col13\" >0</td>\n",
       "            </tr>\n",
       "            <tr>\n",
       "                                <th id=\"T_90e71c24_455a_11ec_b111_0242ac1c0002level1_row4\" class=\"row_heading level1 row4\" >Manik Bondopoddhay</th>\n",
       "                        <td id=\"T_90e71c24_455a_11ec_b111_0242ac1c0002row4_col0\" class=\"data row4 col0\" >0</td>\n",
       "                        <td id=\"T_90e71c24_455a_11ec_b111_0242ac1c0002row4_col1\" class=\"data row4 col1\" >0</td>\n",
       "                        <td id=\"T_90e71c24_455a_11ec_b111_0242ac1c0002row4_col2\" class=\"data row4 col2\" >0</td>\n",
       "                        <td id=\"T_90e71c24_455a_11ec_b111_0242ac1c0002row4_col3\" class=\"data row4 col3\" >0</td>\n",
       "                        <td id=\"T_90e71c24_455a_11ec_b111_0242ac1c0002row4_col4\" class=\"data row4 col4\" >6</td>\n",
       "                        <td id=\"T_90e71c24_455a_11ec_b111_0242ac1c0002row4_col5\" class=\"data row4 col5\" >1</td>\n",
       "                        <td id=\"T_90e71c24_455a_11ec_b111_0242ac1c0002row4_col6\" class=\"data row4 col6\" >0</td>\n",
       "                        <td id=\"T_90e71c24_455a_11ec_b111_0242ac1c0002row4_col7\" class=\"data row4 col7\" >1</td>\n",
       "                        <td id=\"T_90e71c24_455a_11ec_b111_0242ac1c0002row4_col8\" class=\"data row4 col8\" >1</td>\n",
       "                        <td id=\"T_90e71c24_455a_11ec_b111_0242ac1c0002row4_col9\" class=\"data row4 col9\" >1</td>\n",
       "                        <td id=\"T_90e71c24_455a_11ec_b111_0242ac1c0002row4_col10\" class=\"data row4 col10\" >0</td>\n",
       "                        <td id=\"T_90e71c24_455a_11ec_b111_0242ac1c0002row4_col11\" class=\"data row4 col11\" >0</td>\n",
       "                        <td id=\"T_90e71c24_455a_11ec_b111_0242ac1c0002row4_col12\" class=\"data row4 col12\" >0</td>\n",
       "                        <td id=\"T_90e71c24_455a_11ec_b111_0242ac1c0002row4_col13\" class=\"data row4 col13\" >0</td>\n",
       "            </tr>\n",
       "            <tr>\n",
       "                                <th id=\"T_90e71c24_455a_11ec_b111_0242ac1c0002level1_row5\" class=\"row_heading level1 row5\" >Munir Chowdhury</th>\n",
       "                        <td id=\"T_90e71c24_455a_11ec_b111_0242ac1c0002row5_col0\" class=\"data row5 col0\" >0</td>\n",
       "                        <td id=\"T_90e71c24_455a_11ec_b111_0242ac1c0002row5_col1\" class=\"data row5 col1\" >0</td>\n",
       "                        <td id=\"T_90e71c24_455a_11ec_b111_0242ac1c0002row5_col2\" class=\"data row5 col2\" >1</td>\n",
       "                        <td id=\"T_90e71c24_455a_11ec_b111_0242ac1c0002row5_col3\" class=\"data row5 col3\" >0</td>\n",
       "                        <td id=\"T_90e71c24_455a_11ec_b111_0242ac1c0002row5_col4\" class=\"data row5 col4\" >0</td>\n",
       "                        <td id=\"T_90e71c24_455a_11ec_b111_0242ac1c0002row5_col5\" class=\"data row5 col5\" >7</td>\n",
       "                        <td id=\"T_90e71c24_455a_11ec_b111_0242ac1c0002row5_col6\" class=\"data row5 col6\" >0</td>\n",
       "                        <td id=\"T_90e71c24_455a_11ec_b111_0242ac1c0002row5_col7\" class=\"data row5 col7\" >0</td>\n",
       "                        <td id=\"T_90e71c24_455a_11ec_b111_0242ac1c0002row5_col8\" class=\"data row5 col8\" >1</td>\n",
       "                        <td id=\"T_90e71c24_455a_11ec_b111_0242ac1c0002row5_col9\" class=\"data row5 col9\" >0</td>\n",
       "                        <td id=\"T_90e71c24_455a_11ec_b111_0242ac1c0002row5_col10\" class=\"data row5 col10\" >0</td>\n",
       "                        <td id=\"T_90e71c24_455a_11ec_b111_0242ac1c0002row5_col11\" class=\"data row5 col11\" >0</td>\n",
       "                        <td id=\"T_90e71c24_455a_11ec_b111_0242ac1c0002row5_col12\" class=\"data row5 col12\" >1</td>\n",
       "                        <td id=\"T_90e71c24_455a_11ec_b111_0242ac1c0002row5_col13\" class=\"data row5 col13\" >0</td>\n",
       "            </tr>\n",
       "            <tr>\n",
       "                                <th id=\"T_90e71c24_455a_11ec_b111_0242ac1c0002level1_row6\" class=\"row_heading level1 row6\" >Promoth Chowdury</th>\n",
       "                        <td id=\"T_90e71c24_455a_11ec_b111_0242ac1c0002row6_col0\" class=\"data row6 col0\" >0</td>\n",
       "                        <td id=\"T_90e71c24_455a_11ec_b111_0242ac1c0002row6_col1\" class=\"data row6 col1\" >0</td>\n",
       "                        <td id=\"T_90e71c24_455a_11ec_b111_0242ac1c0002row6_col2\" class=\"data row6 col2\" >0</td>\n",
       "                        <td id=\"T_90e71c24_455a_11ec_b111_0242ac1c0002row6_col3\" class=\"data row6 col3\" >0</td>\n",
       "                        <td id=\"T_90e71c24_455a_11ec_b111_0242ac1c0002row6_col4\" class=\"data row6 col4\" >0</td>\n",
       "                        <td id=\"T_90e71c24_455a_11ec_b111_0242ac1c0002row6_col5\" class=\"data row6 col5\" >0</td>\n",
       "                        <td id=\"T_90e71c24_455a_11ec_b111_0242ac1c0002row6_col6\" class=\"data row6 col6\" >9</td>\n",
       "                        <td id=\"T_90e71c24_455a_11ec_b111_0242ac1c0002row6_col7\" class=\"data row6 col7\" >1</td>\n",
       "                        <td id=\"T_90e71c24_455a_11ec_b111_0242ac1c0002row6_col8\" class=\"data row6 col8\" >0</td>\n",
       "                        <td id=\"T_90e71c24_455a_11ec_b111_0242ac1c0002row6_col9\" class=\"data row6 col9\" >0</td>\n",
       "                        <td id=\"T_90e71c24_455a_11ec_b111_0242ac1c0002row6_col10\" class=\"data row6 col10\" >0</td>\n",
       "                        <td id=\"T_90e71c24_455a_11ec_b111_0242ac1c0002row6_col11\" class=\"data row6 col11\" >0</td>\n",
       "                        <td id=\"T_90e71c24_455a_11ec_b111_0242ac1c0002row6_col12\" class=\"data row6 col12\" >0</td>\n",
       "                        <td id=\"T_90e71c24_455a_11ec_b111_0242ac1c0002row6_col13\" class=\"data row6 col13\" >0</td>\n",
       "            </tr>\n",
       "            <tr>\n",
       "                                <th id=\"T_90e71c24_455a_11ec_b111_0242ac1c0002level1_row7\" class=\"row_heading level1 row7\" >Robindronath Tagore</th>\n",
       "                        <td id=\"T_90e71c24_455a_11ec_b111_0242ac1c0002row7_col0\" class=\"data row7 col0\" >0</td>\n",
       "                        <td id=\"T_90e71c24_455a_11ec_b111_0242ac1c0002row7_col1\" class=\"data row7 col1\" >0</td>\n",
       "                        <td id=\"T_90e71c24_455a_11ec_b111_0242ac1c0002row7_col2\" class=\"data row7 col2\" >0</td>\n",
       "                        <td id=\"T_90e71c24_455a_11ec_b111_0242ac1c0002row7_col3\" class=\"data row7 col3\" >0</td>\n",
       "                        <td id=\"T_90e71c24_455a_11ec_b111_0242ac1c0002row7_col4\" class=\"data row7 col4\" >0</td>\n",
       "                        <td id=\"T_90e71c24_455a_11ec_b111_0242ac1c0002row7_col5\" class=\"data row7 col5\" >0</td>\n",
       "                        <td id=\"T_90e71c24_455a_11ec_b111_0242ac1c0002row7_col6\" class=\"data row7 col6\" >0</td>\n",
       "                        <td id=\"T_90e71c24_455a_11ec_b111_0242ac1c0002row7_col7\" class=\"data row7 col7\" >9</td>\n",
       "                        <td id=\"T_90e71c24_455a_11ec_b111_0242ac1c0002row7_col8\" class=\"data row7 col8\" >0</td>\n",
       "                        <td id=\"T_90e71c24_455a_11ec_b111_0242ac1c0002row7_col9\" class=\"data row7 col9\" >0</td>\n",
       "                        <td id=\"T_90e71c24_455a_11ec_b111_0242ac1c0002row7_col10\" class=\"data row7 col10\" >1</td>\n",
       "                        <td id=\"T_90e71c24_455a_11ec_b111_0242ac1c0002row7_col11\" class=\"data row7 col11\" >0</td>\n",
       "                        <td id=\"T_90e71c24_455a_11ec_b111_0242ac1c0002row7_col12\" class=\"data row7 col12\" >0</td>\n",
       "                        <td id=\"T_90e71c24_455a_11ec_b111_0242ac1c0002row7_col13\" class=\"data row7 col13\" >0</td>\n",
       "            </tr>\n",
       "            <tr>\n",
       "                                <th id=\"T_90e71c24_455a_11ec_b111_0242ac1c0002level1_row8\" class=\"row_heading level1 row8\" >Sawkat Osman</th>\n",
       "                        <td id=\"T_90e71c24_455a_11ec_b111_0242ac1c0002row8_col0\" class=\"data row8 col0\" >0</td>\n",
       "                        <td id=\"T_90e71c24_455a_11ec_b111_0242ac1c0002row8_col1\" class=\"data row8 col1\" >0</td>\n",
       "                        <td id=\"T_90e71c24_455a_11ec_b111_0242ac1c0002row8_col2\" class=\"data row8 col2\" >0</td>\n",
       "                        <td id=\"T_90e71c24_455a_11ec_b111_0242ac1c0002row8_col3\" class=\"data row8 col3\" >0</td>\n",
       "                        <td id=\"T_90e71c24_455a_11ec_b111_0242ac1c0002row8_col4\" class=\"data row8 col4\" >0</td>\n",
       "                        <td id=\"T_90e71c24_455a_11ec_b111_0242ac1c0002row8_col5\" class=\"data row8 col5\" >0</td>\n",
       "                        <td id=\"T_90e71c24_455a_11ec_b111_0242ac1c0002row8_col6\" class=\"data row8 col6\" >0</td>\n",
       "                        <td id=\"T_90e71c24_455a_11ec_b111_0242ac1c0002row8_col7\" class=\"data row8 col7\" >0</td>\n",
       "                        <td id=\"T_90e71c24_455a_11ec_b111_0242ac1c0002row8_col8\" class=\"data row8 col8\" >10</td>\n",
       "                        <td id=\"T_90e71c24_455a_11ec_b111_0242ac1c0002row8_col9\" class=\"data row8 col9\" >0</td>\n",
       "                        <td id=\"T_90e71c24_455a_11ec_b111_0242ac1c0002row8_col10\" class=\"data row8 col10\" >0</td>\n",
       "                        <td id=\"T_90e71c24_455a_11ec_b111_0242ac1c0002row8_col11\" class=\"data row8 col11\" >0</td>\n",
       "                        <td id=\"T_90e71c24_455a_11ec_b111_0242ac1c0002row8_col12\" class=\"data row8 col12\" >0</td>\n",
       "                        <td id=\"T_90e71c24_455a_11ec_b111_0242ac1c0002row8_col13\" class=\"data row8 col13\" >0</td>\n",
       "            </tr>\n",
       "            <tr>\n",
       "                                <th id=\"T_90e71c24_455a_11ec_b111_0242ac1c0002level1_row9\" class=\"row_heading level1 row9\" >Shomoresh Mojumdar</th>\n",
       "                        <td id=\"T_90e71c24_455a_11ec_b111_0242ac1c0002row9_col0\" class=\"data row9 col0\" >0</td>\n",
       "                        <td id=\"T_90e71c24_455a_11ec_b111_0242ac1c0002row9_col1\" class=\"data row9 col1\" >0</td>\n",
       "                        <td id=\"T_90e71c24_455a_11ec_b111_0242ac1c0002row9_col2\" class=\"data row9 col2\" >0</td>\n",
       "                        <td id=\"T_90e71c24_455a_11ec_b111_0242ac1c0002row9_col3\" class=\"data row9 col3\" >1</td>\n",
       "                        <td id=\"T_90e71c24_455a_11ec_b111_0242ac1c0002row9_col4\" class=\"data row9 col4\" >0</td>\n",
       "                        <td id=\"T_90e71c24_455a_11ec_b111_0242ac1c0002row9_col5\" class=\"data row9 col5\" >0</td>\n",
       "                        <td id=\"T_90e71c24_455a_11ec_b111_0242ac1c0002row9_col6\" class=\"data row9 col6\" >0</td>\n",
       "                        <td id=\"T_90e71c24_455a_11ec_b111_0242ac1c0002row9_col7\" class=\"data row9 col7\" >0</td>\n",
       "                        <td id=\"T_90e71c24_455a_11ec_b111_0242ac1c0002row9_col8\" class=\"data row9 col8\" >0</td>\n",
       "                        <td id=\"T_90e71c24_455a_11ec_b111_0242ac1c0002row9_col9\" class=\"data row9 col9\" >9</td>\n",
       "                        <td id=\"T_90e71c24_455a_11ec_b111_0242ac1c0002row9_col10\" class=\"data row9 col10\" >0</td>\n",
       "                        <td id=\"T_90e71c24_455a_11ec_b111_0242ac1c0002row9_col11\" class=\"data row9 col11\" >0</td>\n",
       "                        <td id=\"T_90e71c24_455a_11ec_b111_0242ac1c0002row9_col12\" class=\"data row9 col12\" >0</td>\n",
       "                        <td id=\"T_90e71c24_455a_11ec_b111_0242ac1c0002row9_col13\" class=\"data row9 col13\" >0</td>\n",
       "            </tr>\n",
       "            <tr>\n",
       "                                <th id=\"T_90e71c24_455a_11ec_b111_0242ac1c0002level1_row10\" class=\"row_heading level1 row10\" >Shorot Chandro</th>\n",
       "                        <td id=\"T_90e71c24_455a_11ec_b111_0242ac1c0002row10_col0\" class=\"data row10 col0\" >0</td>\n",
       "                        <td id=\"T_90e71c24_455a_11ec_b111_0242ac1c0002row10_col1\" class=\"data row10 col1\" >0</td>\n",
       "                        <td id=\"T_90e71c24_455a_11ec_b111_0242ac1c0002row10_col2\" class=\"data row10 col2\" >0</td>\n",
       "                        <td id=\"T_90e71c24_455a_11ec_b111_0242ac1c0002row10_col3\" class=\"data row10 col3\" >0</td>\n",
       "                        <td id=\"T_90e71c24_455a_11ec_b111_0242ac1c0002row10_col4\" class=\"data row10 col4\" >0</td>\n",
       "                        <td id=\"T_90e71c24_455a_11ec_b111_0242ac1c0002row10_col5\" class=\"data row10 col5\" >0</td>\n",
       "                        <td id=\"T_90e71c24_455a_11ec_b111_0242ac1c0002row10_col6\" class=\"data row10 col6\" >0</td>\n",
       "                        <td id=\"T_90e71c24_455a_11ec_b111_0242ac1c0002row10_col7\" class=\"data row10 col7\" >0</td>\n",
       "                        <td id=\"T_90e71c24_455a_11ec_b111_0242ac1c0002row10_col8\" class=\"data row10 col8\" >0</td>\n",
       "                        <td id=\"T_90e71c24_455a_11ec_b111_0242ac1c0002row10_col9\" class=\"data row10 col9\" >0</td>\n",
       "                        <td id=\"T_90e71c24_455a_11ec_b111_0242ac1c0002row10_col10\" class=\"data row10 col10\" >10</td>\n",
       "                        <td id=\"T_90e71c24_455a_11ec_b111_0242ac1c0002row10_col11\" class=\"data row10 col11\" >0</td>\n",
       "                        <td id=\"T_90e71c24_455a_11ec_b111_0242ac1c0002row10_col12\" class=\"data row10 col12\" >0</td>\n",
       "                        <td id=\"T_90e71c24_455a_11ec_b111_0242ac1c0002row10_col13\" class=\"data row10 col13\" >0</td>\n",
       "            </tr>\n",
       "            <tr>\n",
       "                                <th id=\"T_90e71c24_455a_11ec_b111_0242ac1c0002level1_row11\" class=\"row_heading level1 row11\" >Sufia Kamal</th>\n",
       "                        <td id=\"T_90e71c24_455a_11ec_b111_0242ac1c0002row11_col0\" class=\"data row11 col0\" >0</td>\n",
       "                        <td id=\"T_90e71c24_455a_11ec_b111_0242ac1c0002row11_col1\" class=\"data row11 col1\" >0</td>\n",
       "                        <td id=\"T_90e71c24_455a_11ec_b111_0242ac1c0002row11_col2\" class=\"data row11 col2\" >0</td>\n",
       "                        <td id=\"T_90e71c24_455a_11ec_b111_0242ac1c0002row11_col3\" class=\"data row11 col3\" >0</td>\n",
       "                        <td id=\"T_90e71c24_455a_11ec_b111_0242ac1c0002row11_col4\" class=\"data row11 col4\" >0</td>\n",
       "                        <td id=\"T_90e71c24_455a_11ec_b111_0242ac1c0002row11_col5\" class=\"data row11 col5\" >0</td>\n",
       "                        <td id=\"T_90e71c24_455a_11ec_b111_0242ac1c0002row11_col6\" class=\"data row11 col6\" >0</td>\n",
       "                        <td id=\"T_90e71c24_455a_11ec_b111_0242ac1c0002row11_col7\" class=\"data row11 col7\" >0</td>\n",
       "                        <td id=\"T_90e71c24_455a_11ec_b111_0242ac1c0002row11_col8\" class=\"data row11 col8\" >0</td>\n",
       "                        <td id=\"T_90e71c24_455a_11ec_b111_0242ac1c0002row11_col9\" class=\"data row11 col9\" >0</td>\n",
       "                        <td id=\"T_90e71c24_455a_11ec_b111_0242ac1c0002row11_col10\" class=\"data row11 col10\" >0</td>\n",
       "                        <td id=\"T_90e71c24_455a_11ec_b111_0242ac1c0002row11_col11\" class=\"data row11 col11\" >10</td>\n",
       "                        <td id=\"T_90e71c24_455a_11ec_b111_0242ac1c0002row11_col12\" class=\"data row11 col12\" >0</td>\n",
       "                        <td id=\"T_90e71c24_455a_11ec_b111_0242ac1c0002row11_col13\" class=\"data row11 col13\" >0</td>\n",
       "            </tr>\n",
       "            <tr>\n",
       "                                <th id=\"T_90e71c24_455a_11ec_b111_0242ac1c0002level1_row12\" class=\"row_heading level1 row12\" >Syed Waliullah</th>\n",
       "                        <td id=\"T_90e71c24_455a_11ec_b111_0242ac1c0002row12_col0\" class=\"data row12 col0\" >0</td>\n",
       "                        <td id=\"T_90e71c24_455a_11ec_b111_0242ac1c0002row12_col1\" class=\"data row12 col1\" >0</td>\n",
       "                        <td id=\"T_90e71c24_455a_11ec_b111_0242ac1c0002row12_col2\" class=\"data row12 col2\" >0</td>\n",
       "                        <td id=\"T_90e71c24_455a_11ec_b111_0242ac1c0002row12_col3\" class=\"data row12 col3\" >0</td>\n",
       "                        <td id=\"T_90e71c24_455a_11ec_b111_0242ac1c0002row12_col4\" class=\"data row12 col4\" >0</td>\n",
       "                        <td id=\"T_90e71c24_455a_11ec_b111_0242ac1c0002row12_col5\" class=\"data row12 col5\" >0</td>\n",
       "                        <td id=\"T_90e71c24_455a_11ec_b111_0242ac1c0002row12_col6\" class=\"data row12 col6\" >0</td>\n",
       "                        <td id=\"T_90e71c24_455a_11ec_b111_0242ac1c0002row12_col7\" class=\"data row12 col7\" >1</td>\n",
       "                        <td id=\"T_90e71c24_455a_11ec_b111_0242ac1c0002row12_col8\" class=\"data row12 col8\" >0</td>\n",
       "                        <td id=\"T_90e71c24_455a_11ec_b111_0242ac1c0002row12_col9\" class=\"data row12 col9\" >0</td>\n",
       "                        <td id=\"T_90e71c24_455a_11ec_b111_0242ac1c0002row12_col10\" class=\"data row12 col10\" >0</td>\n",
       "                        <td id=\"T_90e71c24_455a_11ec_b111_0242ac1c0002row12_col11\" class=\"data row12 col11\" >0</td>\n",
       "                        <td id=\"T_90e71c24_455a_11ec_b111_0242ac1c0002row12_col12\" class=\"data row12 col12\" >9</td>\n",
       "                        <td id=\"T_90e71c24_455a_11ec_b111_0242ac1c0002row12_col13\" class=\"data row12 col13\" >0</td>\n",
       "            </tr>\n",
       "            <tr>\n",
       "                                <th id=\"T_90e71c24_455a_11ec_b111_0242ac1c0002level1_row13\" class=\"row_heading level1 row13\" >Taarashankar Bondopoddhay</th>\n",
       "                        <td id=\"T_90e71c24_455a_11ec_b111_0242ac1c0002row13_col0\" class=\"data row13 col0\" >0</td>\n",
       "                        <td id=\"T_90e71c24_455a_11ec_b111_0242ac1c0002row13_col1\" class=\"data row13 col1\" >0</td>\n",
       "                        <td id=\"T_90e71c24_455a_11ec_b111_0242ac1c0002row13_col2\" class=\"data row13 col2\" >0</td>\n",
       "                        <td id=\"T_90e71c24_455a_11ec_b111_0242ac1c0002row13_col3\" class=\"data row13 col3\" >0</td>\n",
       "                        <td id=\"T_90e71c24_455a_11ec_b111_0242ac1c0002row13_col4\" class=\"data row13 col4\" >0</td>\n",
       "                        <td id=\"T_90e71c24_455a_11ec_b111_0242ac1c0002row13_col5\" class=\"data row13 col5\" >0</td>\n",
       "                        <td id=\"T_90e71c24_455a_11ec_b111_0242ac1c0002row13_col6\" class=\"data row13 col6\" >0</td>\n",
       "                        <td id=\"T_90e71c24_455a_11ec_b111_0242ac1c0002row13_col7\" class=\"data row13 col7\" >0</td>\n",
       "                        <td id=\"T_90e71c24_455a_11ec_b111_0242ac1c0002row13_col8\" class=\"data row13 col8\" >0</td>\n",
       "                        <td id=\"T_90e71c24_455a_11ec_b111_0242ac1c0002row13_col9\" class=\"data row13 col9\" >1</td>\n",
       "                        <td id=\"T_90e71c24_455a_11ec_b111_0242ac1c0002row13_col10\" class=\"data row13 col10\" >0</td>\n",
       "                        <td id=\"T_90e71c24_455a_11ec_b111_0242ac1c0002row13_col11\" class=\"data row13 col11\" >0</td>\n",
       "                        <td id=\"T_90e71c24_455a_11ec_b111_0242ac1c0002row13_col12\" class=\"data row13 col12\" >0</td>\n",
       "                        <td id=\"T_90e71c24_455a_11ec_b111_0242ac1c0002row13_col13\" class=\"data row13 col13\" >9</td>\n",
       "            </tr>\n",
       "    </tbody></table>"
      ],
      "text/plain": [
       "<pandas.io.formats.style.Styler at 0x7f4961bbc210>"
      ]
     },
     "execution_count": 88,
     "metadata": {},
     "output_type": "execute_result"
    }
   ],
   "source": [
    "print(\"Confusion Matrix: \")\n",
    "p = pd.DataFrame(cm, \n",
    "                 index=[['Actual']*14,list(le.inverse_transform(list(range(14))))], \n",
    "                 columns=[['Predicted']*14,list(le.inverse_transform(list(range(14))))])\n",
    "\n",
    "p.style.set_properties(**{'background-color': 'skyblue', \n",
    "                          'color': 'black'})"
   ]
  },
  {
   "cell_type": "code",
   "execution_count": 90,
   "metadata": {
    "colab": {
     "base_uri": "https://localhost:8080/",
     "height": 523
    },
    "id": "F42Q8m3WRzi0",
    "outputId": "f94aafd5-19e9-450d-f205-f97215591a9a"
   },
   "outputs": [
    {
     "data": {
      "image/png": "[encoded data removed]",
      "text/plain": [
       "<Figure size 504x288 with 2 Axes>"
      ]
     },
     "metadata": {},
     "output_type": "display_data"
    }
   ],
   "source": [
    "import matplotlib.pyplot as plt\n",
    "import seaborn as sns\n",
    "plt.figure(figsize=(7, 4))\n",
    "sns.set()\n",
    "f = sns.heatmap(p, annot=True, fmt='d')\n",
    "plt.title(\"Confusion Matrix\", fontdict={'fontsize': 14})\n",
    "plt.xlabel(\"Predicted\", fontsize=14)\n",
    "plt.ylabel(\"Actual\",  fontsize=14)\n",
    "plt.show()\n",
    "\n",
    "f.get_figure().savefig(\"multiclass_confusion_matrix_fastText_munna.jpg\", dpi=300, bbox_inches='tight')"
   ]
  },
  {
   "cell_type": "code",
   "execution_count": 91,
   "metadata": {
    "colab": {
     "base_uri": "https://localhost:8080/"
    },
    "id": "bxuNsXLDRzdY",
    "outputId": "82ba01ad-cad4-4fa4-a86a-7ef6a13d4141"
   },
   "outputs": [
    {
     "name": "stdout",
     "output_type": "stream",
     "text": [
      "                             precision    recall  f1-score   support\n",
      "\n",
      "Bankimchandra Chattopadhyay       1.00      1.00      1.00        10\n",
      " Bivutibhushon Bondopoddhay       1.00      0.70      0.82        10\n",
      "              Humayun Ahmed       0.90      0.90      0.90        10\n",
      "             MD Jafor Iqbal       0.83      1.00      0.91        10\n",
      "         Manik Bondopoddhay       0.86      0.60      0.71        10\n",
      "            Munir Chowdhury       0.88      0.70      0.78        10\n",
      "           Promoth Chowdury       1.00      0.90      0.95        10\n",
      "        Robindronath Tagore       0.75      0.90      0.82        10\n",
      "               Sawkat Osman       0.83      1.00      0.91        10\n",
      "         Shomoresh Mojumdar       0.82      0.90      0.86        10\n",
      "             Shorot Chandro       0.77      1.00      0.87        10\n",
      "                Sufia Kamal       1.00      1.00      1.00        10\n",
      "             Syed Waliullah       0.90      0.90      0.90        10\n",
      "  Taarashankar Bondopoddhay       1.00      0.90      0.95        10\n",
      "\n",
      "                   accuracy                           0.89       140\n",
      "                  macro avg       0.90      0.89      0.88       140\n",
      "               weighted avg       0.90      0.89      0.88       140\n",
      "\n"
     ]
    }
   ],
   "source": [
    "target_names = list(le.inverse_transform(list(range(14))))\n",
    "print(classification_report(y_test_k.argmax(axis=1), y_pred.argmax(axis=1), target_names = target_names))"
   ]
  },
  {
   "cell_type": "code",
   "execution_count": null,
   "metadata": {
    "id": "Y-3ZUH1OU1Z6"
   },
   "outputs": [],
   "source": []
  }
 ],
 "metadata": {
  "accelerator": "GPU",
  "colab": {
   "collapsed_sections": [],
   "name": "ecommerce_multiclass_final.ipynb",
   "provenance": []
  },
  "kernelspec": {
   "display_name": "Python 3",
   "language": "python",
   "name": "python3"
  },
  "language_info": {
   "codemirror_mode": {
    "name": "ipython",
    "version": 3
   },
   "file_extension": ".py",
   "mimetype": "text/x-python",
   "name": "python",
   "nbconvert_exporter": "python",
   "pygments_lexer": "ipython3",
   "version": "3.6.13"
  }
 },
 "nbformat": 4,
 "nbformat_minor": 1
}
